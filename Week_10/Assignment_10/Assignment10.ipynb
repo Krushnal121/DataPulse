{
 "cells": [
  {
   "metadata": {
    "ExecuteTime": {
     "end_time": "2024-07-28T04:41:38.617412Z",
     "start_time": "2024-07-28T04:41:38.608767Z"
    }
   },
   "cell_type": "code",
   "source": [
    "import warnings\n",
    "warnings.filterwarnings(\"ignore\")"
   ],
   "id": "10638dda55f32c4e",
   "outputs": [],
   "execution_count": 1
  },
  {
   "metadata": {
    "ExecuteTime": {
     "end_time": "2024-07-28T07:26:08.194935Z",
     "start_time": "2024-07-28T07:26:03.602475Z"
    }
   },
   "cell_type": "code",
   "source": [
    "import torch\n",
    "import torchvision\n",
    "from torchvision import transforms\n",
    "from torchvision.models.detection import fasterrcnn_resnet50_fpn\n",
    "from torchvision.models.detection.faster_rcnn import FastRCNNPredictor\n",
    "from torch.utils.data import Dataset, DataLoader\n",
    "import pandas as pd\n",
    "from PIL import Image\n",
    "import os\n",
    "import time"
   ],
   "id": "c8eae1dd1e91a5b0",
   "outputs": [],
   "execution_count": 1
  },
  {
   "metadata": {
    "ExecuteTime": {
     "end_time": "2024-07-28T07:26:09.279663Z",
     "start_time": "2024-07-28T07:26:09.267854Z"
    }
   },
   "cell_type": "code",
   "source": [
    "class IndoorObjectDataset(Dataset):\n",
    "    def __init__(self, csv_file, img_dir, transform=None):\n",
    "        start_time = time.time()\n",
    "        self.annotations = pd.read_csv(csv_file)\n",
    "        self.img_dir = img_dir\n",
    "        self.transform = transform\n",
    "        self.classes = self.annotations['class'].unique()\n",
    "        self.class_to_idx = {cls: idx for idx, cls in enumerate(self.classes)}\n",
    "        \n",
    "        if self.transform is None:\n",
    "            self.transform = transforms.Compose([\n",
    "                transforms.ToTensor(),\n",
    "            ])\n",
    "        \n",
    "        print(f\"Dataset initialization took {time.time() - start_time:.2f} seconds\")\n",
    "        print(f\"Number of images: {len(self.annotations['filename'].unique())}\")\n",
    "\n",
    "    def __len__(self):\n",
    "        return len(self.annotations['filename'].unique())\n",
    "\n",
    "    def __getitem__(self, idx):\n",
    "        start_time = time.time()\n",
    "        \n",
    "        img_name = self.annotations['filename'].unique()[idx]\n",
    "        img_path = os.path.join(self.img_dir, img_name)\n",
    "        \n",
    "        image_load_time = time.time()\n",
    "        img = Image.open(img_path).convert(\"RGB\")\n",
    "        print(f\"Image loading took {time.time() - image_load_time:.4f} seconds\")\n",
    "\n",
    "        annotation_time = time.time()\n",
    "        img_annotations = self.annotations[self.annotations['filename'] == img_name]\n",
    "        \n",
    "        boxes = []\n",
    "        labels = []\n",
    "        for _, row in img_annotations.iterrows():\n",
    "            boxes.append([row['xmin'], row['ymin'], row['xmax'], row['ymax']])\n",
    "            labels.append(self.class_to_idx[row['class']])\n",
    "\n",
    "        boxes = torch.as_tensor(boxes, dtype=torch.float32)\n",
    "        labels = torch.as_tensor(labels, dtype=torch.int64)\n",
    "        \n",
    "        image_id = torch.tensor([idx])\n",
    "        area = (boxes[:, 3] - boxes[:, 1]) * (boxes[:, 2] - boxes[:, 0])\n",
    "        iscrowd = torch.zeros((len(boxes),), dtype=torch.int64)\n",
    "        \n",
    "        target = {}\n",
    "        target[\"boxes\"] = boxes\n",
    "        target[\"labels\"] = labels\n",
    "        target[\"image_id\"] = image_id\n",
    "        target[\"area\"] = area\n",
    "        target[\"iscrowd\"] = iscrowd\n",
    "        print(f\"Annotation processing took {time.time() - annotation_time:.4f} seconds\")\n",
    "\n",
    "        transform_time = time.time()\n",
    "        img = self.transform(img)\n",
    "        print(f\"Image transformation took {time.time() - transform_time:.4f} seconds\")\n",
    "\n",
    "        print(f\"Total time for item {idx}: {time.time() - start_time:.4f} seconds\")\n",
    "        return img, target"
   ],
   "id": "5bb982c314cefe7d",
   "outputs": [],
   "execution_count": 2
  },
  {
   "metadata": {
    "ExecuteTime": {
     "end_time": "2024-07-28T07:26:16.679020Z",
     "start_time": "2024-07-28T07:26:16.673253Z"
    }
   },
   "cell_type": "code",
   "source": [
    "def get_model(num_classes):\n",
    "    start_time = time.time()\n",
    "    model = fasterrcnn_resnet50_fpn(pretrained=True)\n",
    "    in_features = model.roi_heads.box_predictor.cls_score.in_features\n",
    "    model.roi_heads.box_predictor = FastRCNNPredictor(in_features, num_classes)\n",
    "    print(f\"Model initialization took {time.time() - start_time:.2f} seconds\")\n",
    "    return model"
   ],
   "id": "df7a2f8871ac97c7",
   "outputs": [],
   "execution_count": 3
  },
  {
   "metadata": {
    "ExecuteTime": {
     "end_time": "2024-07-28T07:26:25.546895Z",
     "start_time": "2024-07-28T07:26:25.540049Z"
    }
   },
   "cell_type": "code",
   "source": [
    "def train_one_epoch(model, optimizer, data_loader, device):\n",
    "    model.train()\n",
    "    total_loss = 0\n",
    "    start_time = time.time()\n",
    "    for i, (images, targets) in enumerate(data_loader):\n",
    "        batch_start_time = time.time()\n",
    "        images = list(image.to(device) for image in images)\n",
    "        targets = [{k: v.to(device) for k, v in t.items()} for t in targets]\n",
    "\n",
    "        forward_time = time.time()\n",
    "        loss_dict = model(images, targets)\n",
    "        losses = sum(loss for loss in loss_dict.values())\n",
    "        total_loss += losses.item()\n",
    "        print(f\"Forward pass took {time.time() - forward_time:.4f} seconds\")\n",
    "\n",
    "        backward_time = time.time()\n",
    "        optimizer.zero_grad()\n",
    "        losses.backward()\n",
    "        optimizer.step()\n",
    "        print(f\"Backward pass took {time.time() - backward_time:.4f} seconds\")\n",
    "\n",
    "        print(f\"Batch {i}, Loss: {losses.item():.4f}, Time: {time.time() - batch_start_time:.4f} seconds\")\n",
    "\n",
    "    return total_loss / len(data_loader)"
   ],
   "id": "88aa79f506da5c9",
   "outputs": [],
   "execution_count": 4
  },
  {
   "metadata": {
    "jupyter": {
     "is_executing": true
    },
    "ExecuteTime": {
     "start_time": "2024-07-28T07:26:29.616992Z"
    }
   },
   "cell_type": "code",
   "source": [
    "def main():\n",
    "    device = torch.device('cuda') if torch.cuda.is_available() else torch.device('cpu')\n",
    "    print(f\"Using device: {device}\")\n",
    "\n",
    "    start_time = time.time()\n",
    "    train_dataset = IndoorObjectDataset(csv_file='train/_annotations.csv', img_dir='train')\n",
    "    valid_dataset = IndoorObjectDataset(csv_file='valid/_annotations.csv', img_dir='valid')\n",
    "    print(f\"Dataset loading took {time.time() - start_time:.2f} seconds\")\n",
    "\n",
    "    start_time = time.time()\n",
    "    train_loader = DataLoader(train_dataset, batch_size=2, shuffle=True, num_workers=0, collate_fn=lambda x: tuple(zip(*x)))\n",
    "    valid_loader = DataLoader(valid_dataset, batch_size=1, shuffle=False, num_workers=0, collate_fn=lambda x: tuple(zip(*x)))\n",
    "    print(f\"DataLoader initialization took {time.time() - start_time:.2f} seconds\")\n",
    "\n",
    "    num_classes = len(train_dataset.classes)\n",
    "    model = get_model(num_classes)\n",
    "    model.to(device)\n",
    "\n",
    "    params = [p for p in model.parameters() if p.requires_grad]\n",
    "    optimizer = torch.optim.SGD(params, lr=0.005, momentum=0.9, weight_decay=0.0005)\n",
    "\n",
    "    num_epochs = 10\n",
    "    for epoch in range(num_epochs):\n",
    "        start_time = time.time()\n",
    "        print(f\"Starting epoch {epoch+1}/{num_epochs}\")\n",
    "        avg_loss = train_one_epoch(model, optimizer, train_loader, device)\n",
    "        print(f\"Epoch {epoch+1}/{num_epochs}, Average Loss: {avg_loss:.4f}, Time: {time.time() - start_time:.2f} seconds\")\n",
    "\n",
    "    torch.save(model.state_dict(), 'faster_rcnn_indoor_object_detection.pth')\n",
    "    print(\"Model saved successfully\")\n",
    "\n",
    "if __name__ == \"__main__\":\n",
    "    main()"
   ],
   "id": "6df81de60fb0e0ed",
   "outputs": [
    {
     "name": "stdout",
     "output_type": "stream",
     "text": [
      "Using device: cpu\n",
      "Dataset initialization took 0.03 seconds\n",
      "Number of images: 3612\n",
      "Dataset initialization took 0.01 seconds\n",
      "Number of images: 342\n",
      "Dataset loading took 0.05 seconds\n",
      "DataLoader initialization took 0.00 seconds\n"
     ]
    },
    {
     "name": "stderr",
     "output_type": "stream",
     "text": [
      "C:\\Users\\krush\\AppData\\Local\\Programs\\Python\\Python312\\Lib\\site-packages\\torchvision\\models\\_utils.py:208: UserWarning: The parameter 'pretrained' is deprecated since 0.13 and may be removed in the future, please use 'weights' instead.\n",
      "  warnings.warn(\n",
      "C:\\Users\\krush\\AppData\\Local\\Programs\\Python\\Python312\\Lib\\site-packages\\torchvision\\models\\_utils.py:223: UserWarning: Arguments other than a weight enum or `None` for 'weights' are deprecated since 0.13 and may be removed in the future. The current behavior is equivalent to passing `weights=FasterRCNN_ResNet50_FPN_Weights.COCO_V1`. You can also use `weights=FasterRCNN_ResNet50_FPN_Weights.DEFAULT` to get the most up-to-date weights.\n",
      "  warnings.warn(msg)\n"
     ]
    },
    {
     "name": "stdout",
     "output_type": "stream",
     "text": [
      "Model initialization took 0.84 seconds\n",
      "Starting epoch 1/10\n",
      "Image loading took 0.0223 seconds\n",
      "Annotation processing took 0.0020 seconds\n",
      "Image transformation took 0.0040 seconds\n",
      "Total time for item 960: 0.0313 seconds\n",
      "Image loading took 0.0070 seconds\n",
      "Annotation processing took 0.0020 seconds\n",
      "Image transformation took 0.0030 seconds\n",
      "Total time for item 1739: 0.0160 seconds\n",
      "Forward pass took 3.7433 seconds\n",
      "Backward pass took 5.8737 seconds\n",
      "Batch 0, Loss: 3.8180, Time: 9.6170 seconds\n",
      "Image loading took 0.0100 seconds\n",
      "Annotation processing took 0.0020 seconds\n",
      "Image transformation took 0.0030 seconds\n",
      "Total time for item 2281: 0.0170 seconds\n",
      "Image loading took 0.0102 seconds\n",
      "Annotation processing took 0.0010 seconds\n",
      "Image transformation took 0.0030 seconds\n",
      "Total time for item 172: 0.0162 seconds\n",
      "Forward pass took 3.9219 seconds\n",
      "Backward pass took 5.7102 seconds\n",
      "Batch 1, Loss: 2.2454, Time: 9.6331 seconds\n",
      "Image loading took 0.0110 seconds\n",
      "Annotation processing took 0.0020 seconds\n",
      "Image transformation took 0.0030 seconds\n",
      "Total time for item 3400: 0.0180 seconds\n",
      "Image loading took 0.0080 seconds\n",
      "Annotation processing took 0.0020 seconds\n",
      "Image transformation took 0.0030 seconds\n",
      "Total time for item 2459: 0.0150 seconds\n",
      "Forward pass took 3.4542 seconds\n",
      "Backward pass took 5.5837 seconds\n",
      "Batch 2, Loss: 1.0510, Time: 9.0389 seconds\n",
      "Image loading took 0.0100 seconds\n",
      "Annotation processing took 0.0020 seconds\n",
      "Image transformation took 0.0030 seconds\n",
      "Total time for item 1846: 0.0170 seconds\n",
      "Image loading took 0.0090 seconds\n",
      "Annotation processing took 0.0020 seconds\n",
      "Image transformation took 0.0030 seconds\n",
      "Total time for item 751: 0.0160 seconds\n",
      "Forward pass took 3.6482 seconds\n",
      "Backward pass took 6.0612 seconds\n",
      "Batch 3, Loss: 1.8840, Time: 9.7104 seconds\n",
      "Image loading took 0.0100 seconds\n",
      "Annotation processing took 0.0020 seconds\n",
      "Image transformation took 0.0030 seconds\n",
      "Total time for item 1977: 0.0170 seconds\n",
      "Image loading took 0.0080 seconds\n",
      "Annotation processing took 0.0020 seconds\n",
      "Image transformation took 0.0030 seconds\n",
      "Total time for item 2018: 0.0150 seconds\n",
      "Forward pass took 3.7870 seconds\n",
      "Backward pass took 6.2361 seconds\n",
      "Batch 4, Loss: 1.8905, Time: 10.0231 seconds\n",
      "Image loading took 0.0130 seconds\n",
      "Annotation processing took 0.0020 seconds\n",
      "Image transformation took 0.0030 seconds\n",
      "Total time for item 2681: 0.0200 seconds\n",
      "Image loading took 0.0080 seconds\n",
      "Annotation processing took 0.0030 seconds\n",
      "Image transformation took 0.0030 seconds\n",
      "Total time for item 297: 0.0160 seconds\n",
      "Forward pass took 3.5509 seconds\n",
      "Backward pass took 5.8102 seconds\n",
      "Batch 5, Loss: 0.7442, Time: 9.3621 seconds\n",
      "Image loading took 0.0090 seconds\n",
      "Annotation processing took 0.0010 seconds\n",
      "Image transformation took 0.0030 seconds\n",
      "Total time for item 3349: 0.0150 seconds\n",
      "Image loading took 0.0100 seconds\n",
      "Annotation processing took 0.0010 seconds\n",
      "Image transformation took 0.0030 seconds\n",
      "Total time for item 2020: 0.0160 seconds\n",
      "Forward pass took 3.4051 seconds\n"
     ]
    }
   ],
   "execution_count": null
  }
 ],
 "metadata": {
  "kernelspec": {
   "display_name": "Python 3",
   "language": "python",
   "name": "python3"
  },
  "language_info": {
   "codemirror_mode": {
    "name": "ipython",
    "version": 2
   },
   "file_extension": ".py",
   "mimetype": "text/x-python",
   "name": "python",
   "nbconvert_exporter": "python",
   "pygments_lexer": "ipython2",
   "version": "2.7.6"
  }
 },
 "nbformat": 4,
 "nbformat_minor": 5
}
