{
 "cells": [
  {
   "metadata": {},
   "cell_type": "markdown",
   "source": [
    "# Anomaly Detection using machine learning\n",
    "## Import necessary libraries"
   ],
   "id": "b0d28705ba1e52b6"
  },
  {
   "metadata": {
    "ExecuteTime": {
     "end_time": "2024-07-20T05:35:22.494082Z",
     "start_time": "2024-07-20T05:35:22.484807Z"
    }
   },
   "cell_type": "code",
   "source": [
    "import pandas as pd\n",
    "import numpy as np\n",
    "from sklearn.ensemble import IsolationForest\n",
    "from sklearn.metrics import f1_score\n",
    "import warnings\n",
    "warnings.filterwarnings('ignore')"
   ],
   "id": "791b1e5ab8d1cb54",
   "execution_count": 35,
   "outputs": []
  },
  {
   "metadata": {},
   "cell_type": "markdown",
   "source": "## Load the datasets",
   "id": "4292e14fd8a1ffc1"
  },
  {
   "metadata": {
    "ExecuteTime": {
     "end_time": "2024-07-20T05:35:22.663839Z",
     "start_time": "2024-07-20T05:35:22.621575Z"
    }
   },
   "cell_type": "code",
   "source": [
    "train_df = pd.read_csv('./train.csv')\n",
    "test_df = pd.read_csv('./test.csv')"
   ],
   "id": "f2933be209df3463",
   "execution_count": 36,
   "outputs": []
  },
  {
   "metadata": {},
   "cell_type": "markdown",
   "source": "## Display the first few rows of the train dataset",
   "id": "1683185fad352319"
  },
  {
   "metadata": {
    "ExecuteTime": {
     "end_time": "2024-07-20T05:35:22.680540Z",
     "start_time": "2024-07-20T05:35:22.666364Z"
    }
   },
   "cell_type": "code",
   "source": "train_df.head()",
   "id": "ab135dd9c61ec552",
   "execution_count": 37,
   "outputs": []
  },
  {
   "metadata": {},
   "cell_type": "markdown",
   "source": [
    "## Preprocess the data\n",
    "### We will use the 'value' column to train the model"
   ],
   "id": "1bcb4d3a151ac45"
  },
  {
   "metadata": {
    "ExecuteTime": {
     "end_time": "2024-07-20T05:35:22.725865Z",
     "start_time": "2024-07-20T05:35:22.709308Z"
    }
   },
   "cell_type": "code",
   "source": [
    "X_train = train_df[['value']].values\n",
    "X_test = test_df[['value']].values"
   ],
   "id": "2efc5f51ead398c0",
   "execution_count": 38,
   "outputs": []
  },
  {
   "metadata": {},
   "cell_type": "markdown",
   "source": "## Initialize the model",
   "id": "bebbeb2767659b4"
  },
  {
   "metadata": {
    "ExecuteTime": {
     "end_time": "2024-07-20T05:35:22.754456Z",
     "start_time": "2024-07-20T05:35:22.749457Z"
    }
   },
   "cell_type": "code",
   "source": "model = IsolationForest(contamination=0.01)",
   "id": "cda6c3814ec9316",
   "execution_count": 39,
   "outputs": []
  },
  {
   "metadata": {},
   "cell_type": "markdown",
   "source": "## Fit the model on the training data",
   "id": "613b49cf20e2612"
  },
  {
   "metadata": {
    "ExecuteTime": {
     "end_time": "2024-07-20T05:35:23.262296Z",
     "start_time": "2024-07-20T05:35:22.788091Z"
    }
   },
   "cell_type": "code",
   "source": "model.fit(X_train)",
   "id": "2ef29ce7bd34a9c6",
   "execution_count": 40,
   "outputs": []
  },
  {
   "metadata": {},
   "cell_type": "markdown",
   "source": "## Predict anomalies on the test data",
   "id": "a23953ef0e82a18a"
  },
  {
   "metadata": {
    "ExecuteTime": {
     "end_time": "2024-07-20T05:35:23.288086Z",
     "start_time": "2024-07-20T05:35:23.264836Z"
    }
   },
   "cell_type": "code",
   "source": "test_df['is_anomaly'] = model.predict(X_test)",
   "id": "984c16c84a7438a1",
   "execution_count": 41,
   "outputs": []
  },
  {
   "metadata": {},
   "cell_type": "markdown",
   "source": "## Convert predictions: -1 (anomaly) to 1, and 1 (normal) to 0",
   "id": "7ad4626933a7c5d9"
  },
  {
   "metadata": {
    "ExecuteTime": {
     "end_time": "2024-07-20T05:35:23.305907Z",
     "start_time": "2024-07-20T05:35:23.293558Z"
    }
   },
   "cell_type": "code",
   "source": "test_df['is_anomaly'] = test_df['is_anomaly'].map({-1: 1, 1: 0})",
   "id": "dfdaec094d23822f",
   "execution_count": 42,
   "outputs": []
  },
  {
   "metadata": {},
   "cell_type": "markdown",
   "source": "## Prepare the submission file",
   "id": "ca87e54d6ddfab25"
  },
  {
   "metadata": {
    "ExecuteTime": {
     "end_time": "2024-07-20T05:35:23.335396Z",
     "start_time": "2024-07-20T05:35:23.309930Z"
    }
   },
   "cell_type": "code",
   "source": [
    "submission_df = test_df[['timestamp', 'is_anomaly']]\n",
    "submission_df.to_csv('./Submission.csv', index=False)"
   ],
   "id": "fb00b8e9a86af931",
   "execution_count": 43,
   "outputs": []
  },
  {
   "metadata": {},
   "cell_type": "markdown",
   "source": "## Evaluate the model",
   "id": "b3014dad6889f0bd"
  },
  {
   "metadata": {},
   "cell_type": "markdown",
   "source": [
    "### We need the ground truth values to calculate the F1 score\n",
    "### Assuming 'is_anomaly' in the test data is the ground truth"
   ],
   "id": "d7c135e1fea63526"
  },
  {
   "metadata": {
    "ExecuteTime": {
     "end_time": "2024-07-20T05:35:23.365828Z",
     "start_time": "2024-07-20T05:35:23.337676Z"
    }
   },
   "cell_type": "code",
   "source": [
    "y_true = test_df['is_anomaly'].values\n",
    "y_pred = model.predict(X_test)\n",
    "y_pred = np.where(y_pred == -1, 1, 0)"
   ],
   "id": "42cd7f74823d6436",
   "execution_count": 44,
   "outputs": []
  },
  {
   "metadata": {},
   "cell_type": "markdown",
   "source": "## Calculate F1 score",
   "id": "75a84b5ec570178c"
  },
  {
   "metadata": {
    "ExecuteTime": {
     "end_time": "2024-07-20T05:35:23.390212Z",
     "start_time": "2024-07-20T05:35:23.368190Z"
    }
   },
   "cell_type": "code",
   "source": [
    "f1 = f1_score(y_true, y_pred)\n",
    "print(f\"F1 Score: {f1}\")"
   ],
   "id": "140dec095bf5c6e7",
   "execution_count": 45,
   "outputs": []
  },
  {
   "metadata": {},
   "cell_type": "markdown",
   "source": "## Display the first few rows of the submission file",
   "id": "ac566148e51387da"
  },
  {
   "metadata": {
    "ExecuteTime": {
     "end_time": "2024-07-20T05:35:23.483332Z",
     "start_time": "2024-07-20T05:35:23.395736Z"
    }
   },
   "cell_type": "code",
   "source": "submission_df.head()",
   "id": "initial_id",
   "execution_count": 46,
   "outputs": []
  },
  {
   "metadata": {
    "ExecuteTime": {
     "end_time": "2024-07-20T05:35:47.386674Z",
     "start_time": "2024-07-20T05:35:47.371343Z"
    }
   },
   "cell_type": "code",
   "source": "submission_df",
   "id": "4d4bcb7bfb9f1242",
   "execution_count": 47,
   "outputs": []
  }
 ],
 "metadata": {
  "kernelspec": {
   "display_name": "Python 3",
   "language": "python",
   "name": "python3"
  },
  "language_info": {
   "codemirror_mode": {
    "name": "ipython",
    "version": 2
   },
   "file_extension": ".py",
   "mimetype": "text/x-python",
   "name": "python",
   "nbconvert_exporter": "python",
   "pygments_lexer": "ipython2",
   "version": "2.7.6"
  }
 },
 "nbformat": 4,
 "nbformat_minor": 5
}
