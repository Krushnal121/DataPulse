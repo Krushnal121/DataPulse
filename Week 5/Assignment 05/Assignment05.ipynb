{
 "cells": [
  {
   "metadata": {},
   "cell_type": "markdown",
   "source": "# Importing Necessary Libraries",
   "id": "7a37d5f52ad18043"
  },
  {
   "metadata": {
    "ExecuteTime": {
     "end_time": "2024-06-23T04:36:04.262213Z",
     "start_time": "2024-06-23T04:36:04.238513Z"
    }
   },
   "cell_type": "code",
   "source": [
    "import pandas as pd\n",
    "import numpy as np\n",
    "import seaborn as sns\n",
    "import matplotlib.pyplot as plt\n",
    "import warnings\n",
    "%matplotlib inline\n",
    "warnings.filterwarnings(\"ignore\")"
   ],
   "id": "fd7c6253ad7667ea",
   "execution_count": 1,
   "outputs": []
  },
  {
   "metadata": {},
   "cell_type": "markdown",
   "source": "# Importing Dataset into Dataframe",
   "id": "d198ce814d2327b7"
  },
  {
   "metadata": {
    "ExecuteTime": {
     "end_time": "2024-06-23T04:36:04.289895Z",
     "start_time": "2024-06-23T04:36:04.264220Z"
    }
   },
   "cell_type": "code",
   "source": "data=pd.read_csv(\"./HousingData.csv\")",
   "id": "462b977d60648c5",
   "execution_count": 2,
   "outputs": []
  },
  {
   "metadata": {
    "ExecuteTime": {
     "end_time": "2024-06-23T04:36:04.317023Z",
     "start_time": "2024-06-23T04:36:04.290905Z"
    }
   },
   "cell_type": "code",
   "source": "data",
   "id": "f4a45cc590f6d970",
   "execution_count": 3,
   "outputs": []
  },
  {
   "metadata": {},
   "cell_type": "markdown",
   "source": "# Data Analysis",
   "id": "92d933b8257c2b20"
  },
  {
   "metadata": {
    "ExecuteTime": {
     "end_time": "2024-06-23T04:36:04.324017Z",
     "start_time": "2024-06-23T04:36:04.319031Z"
    }
   },
   "cell_type": "code",
   "source": "data.shape",
   "id": "33c5d2a0047d9677",
   "execution_count": 4,
   "outputs": []
  },
  {
   "metadata": {
    "ExecuteTime": {
     "end_time": "2024-06-23T04:36:04.364428Z",
     "start_time": "2024-06-23T04:36:04.326025Z"
    }
   },
   "cell_type": "code",
   "source": "data.describe()",
   "id": "56c014318ce9e75",
   "execution_count": 5,
   "outputs": []
  },
  {
   "metadata": {
    "ExecuteTime": {
     "end_time": "2024-06-23T04:36:04.385204Z",
     "start_time": "2024-06-23T04:36:04.370695Z"
    }
   },
   "cell_type": "code",
   "source": "data.info()",
   "id": "629c6b10fb371ec3",
   "execution_count": 6,
   "outputs": []
  },
  {
   "metadata": {
    "ExecuteTime": {
     "end_time": "2024-06-23T04:36:04.394222Z",
     "start_time": "2024-06-23T04:36:04.387213Z"
    }
   },
   "cell_type": "code",
   "source": "data.isnull().sum()",
   "id": "f54a6fb72f88a1c2",
   "execution_count": 7,
   "outputs": []
  },
  {
   "metadata": {},
   "cell_type": "markdown",
   "source": "# Data Preprocessing",
   "id": "56d23ed05ddd1c9e"
  },
  {
   "metadata": {
    "ExecuteTime": {
     "end_time": "2024-06-23T04:36:04.399999Z",
     "start_time": "2024-06-23T04:36:04.395234Z"
    }
   },
   "cell_type": "code",
   "source": "data.fillna(value=0, inplace=True)",
   "id": "ba32efdb44488662",
   "execution_count": 8,
   "outputs": []
  },
  {
   "metadata": {
    "ExecuteTime": {
     "end_time": "2024-06-23T04:36:04.407838Z",
     "start_time": "2024-06-23T04:36:04.401007Z"
    }
   },
   "cell_type": "code",
   "source": "data.isnull().sum()",
   "id": "f77668f6f132b728",
   "execution_count": 9,
   "outputs": []
  },
  {
   "metadata": {
    "ExecuteTime": {
     "end_time": "2024-06-23T04:36:04.428753Z",
     "start_time": "2024-06-23T04:36:04.408849Z"
    }
   },
   "cell_type": "code",
   "source": "data",
   "id": "54993331dcc0de34",
   "execution_count": 10,
   "outputs": []
  },
  {
   "metadata": {},
   "cell_type": "markdown",
   "source": "# Exploratory Data Analysis",
   "id": "d2bbea4bffcc43a4"
  },
  {
   "metadata": {},
   "cell_type": "markdown",
   "source": "## Create a Boxplot To check the Presence of outliers",
   "id": "3d2aa02accc81c9b"
  },
  {
   "metadata": {
    "ExecuteTime": {
     "end_time": "2024-06-23T04:36:06.014199Z",
     "start_time": "2024-06-23T04:36:04.429763Z"
    }
   },
   "cell_type": "code",
   "source": [
    "fig, ax = plt.subplots(ncols=7, nrows=2, figsize=(15, 10))\n",
    "index = 0\n",
    "ax = ax.flatten()\n",
    "\n",
    "for col, value in data.items():\n",
    "    sns.boxplot(y=col, data=data, ax=ax[index], color=\"#A259FF\")\n",
    "    index+=1\n",
    "plt.tight_layout(pad=0.5,w_pad=0.7,h_pad=5.0)"
   ],
   "id": "bc03d4d3a5795a8f",
   "execution_count": 11,
   "outputs": []
  },
  {
   "metadata": {},
   "cell_type": "markdown",
   "source": "## Create a Distplot to check the Distribution of Data  ",
   "id": "3dce18ff268aa3ec"
  },
  {
   "metadata": {
    "ExecuteTime": {
     "end_time": "2024-06-23T04:36:08.792562Z",
     "start_time": "2024-06-23T04:36:06.016210Z"
    }
   },
   "cell_type": "code",
   "source": [
    "fig, ax = plt.subplots(ncols=7, nrows=2, figsize=(15, 10))\n",
    "index = 0\n",
    "ax = ax.flatten()\n",
    "\n",
    "for col, value in data.items():\n",
    "    sns.distplot(value, ax=ax[index], color=\"#A259FF\")\n",
    "    index += 1\n",
    "plt.tight_layout(pad=0.5, w_pad=0.7, h_pad=5.0)"
   ],
   "id": "42b1739b7b2e8baa",
   "execution_count": 12,
   "outputs": []
  },
  {
   "metadata": {},
   "cell_type": "markdown",
   "source": "## Min-Max Normalization",
   "id": "f0be6ca22e8a4477"
  },
  {
   "metadata": {
    "ExecuteTime": {
     "end_time": "2024-06-23T04:36:08.801519Z",
     "start_time": "2024-06-23T04:36:08.794571Z"
    }
   },
   "cell_type": "code",
   "source": [
    "cols = [\"CRIM\", \"ZN\", \"TAX\", \"B\"]\n",
    "for col in cols:\n",
    "    # find minimum and maximum of that column\n",
    "    minimum = min(data[col])\n",
    "    maximum = max(data[col])\n",
    "    data[col] = (data[col] - minimum) / (maximum - minimum)"
   ],
   "id": "ae1827d159618142",
   "execution_count": 13,
   "outputs": []
  },
  {
   "metadata": {
    "ExecuteTime": {
     "end_time": "2024-06-23T04:36:11.234970Z",
     "start_time": "2024-06-23T04:36:08.802530Z"
    }
   },
   "cell_type": "code",
   "source": [
    "fig, ax = plt.subplots(ncols=7, nrows=2, figsize=(15, 10))\n",
    "index = 0\n",
    "ax = ax.flatten()\n",
    "\n",
    "for col, value in data.items():\n",
    "    sns.distplot(value, ax=ax[index], color=\"#A259FF\")\n",
    "    index += 1\n",
    "plt.tight_layout(pad=0.5, w_pad=0.7, h_pad=5.0)"
   ],
   "id": "9348c652f84b70d1",
   "execution_count": 14,
   "outputs": []
  },
  {
   "metadata": {},
   "cell_type": "markdown",
   "source": "## Standardization",
   "id": "8893c66eb8fc5426"
  },
  {
   "metadata": {
    "ExecuteTime": {
     "end_time": "2024-06-23T04:36:11.463418Z",
     "start_time": "2024-06-23T04:36:11.235984Z"
    }
   },
   "cell_type": "code",
   "source": [
    "from sklearn import preprocessing\n",
    "scalar = preprocessing.StandardScaler()\n",
    "\n",
    "# fit our data\n",
    "scaled_cols = scalar.fit_transform(data[cols])\n",
    "scaled_cols = pd.DataFrame(scaled_cols, columns=cols)\n",
    "scaled_cols.head()"
   ],
   "id": "bf8d6195f011cd60",
   "execution_count": 15,
   "outputs": []
  },
  {
   "metadata": {
    "ExecuteTime": {
     "end_time": "2024-06-23T04:36:11.468631Z",
     "start_time": "2024-06-23T04:36:11.464431Z"
    }
   },
   "cell_type": "code",
   "source": [
    "for col in cols:\n",
    "    data[col] = scaled_cols[col]"
   ],
   "id": "4128119ff8ba3f8",
   "execution_count": 16,
   "outputs": []
  },
  {
   "metadata": {
    "ExecuteTime": {
     "end_time": "2024-06-23T04:36:14.365046Z",
     "start_time": "2024-06-23T04:36:11.469661Z"
    }
   },
   "cell_type": "code",
   "source": [
    "fig, ax = plt.subplots(ncols=7, nrows=2, figsize=(15, 10))\n",
    "index = 0\n",
    "ax = ax.flatten()\n",
    "\n",
    "for col, value in data.items():\n",
    "    sns.distplot(value, ax=ax[index], color=\"#A259FF\")\n",
    "    index += 1\n",
    "plt.tight_layout(pad=0.5, w_pad=0.7, h_pad=5.0)"
   ],
   "id": "778f5ee24218a9f2",
   "execution_count": 17,
   "outputs": []
  },
  {
   "metadata": {},
   "cell_type": "markdown",
   "source": "## Coorelation Matrix",
   "id": "585099aa520d5dfc"
  },
  {
   "metadata": {
    "ExecuteTime": {
     "end_time": "2024-06-23T04:36:15.022130Z",
     "start_time": "2024-06-23T04:36:14.366061Z"
    }
   },
   "cell_type": "code",
   "source": [
    "corr = data.corr()\n",
    "plt.figure(figsize=(20,10))\n",
    "sns.heatmap(corr, annot=True, cmap='coolwarm')"
   ],
   "id": "4ee136773cb80c6b",
   "execution_count": 18,
   "outputs": []
  },
  {
   "metadata": {
    "ExecuteTime": {
     "end_time": "2024-06-23T04:36:15.568939Z",
     "start_time": "2024-06-23T04:36:15.023136Z"
    }
   },
   "cell_type": "code",
   "source": [
    "fig, ax = plt.subplots(ncols=2, nrows=1, figsize=(20, 10))\n",
    "ax = ax.flatten()\n",
    "sns.regplot(y=data['MEDV'], x=data['LSTAT'], color=\"#A259FF\", ax=ax[0])\n",
    "sns.regplot(y=data['MEDV'], x=data['RM'], color=\"#A259FF\", ax=ax[1])"
   ],
   "id": "3312cd7c77e0089e",
   "execution_count": 19,
   "outputs": []
  },
  {
   "metadata": {},
   "cell_type": "markdown",
   "source": "## Input Split",
   "id": "b8c54ac7b0beeded"
  },
  {
   "metadata": {
    "ExecuteTime": {
     "end_time": "2024-06-23T04:36:15.576179Z",
     "start_time": "2024-06-23T04:36:15.570951Z"
    }
   },
   "cell_type": "code",
   "source": [
    "X = data.drop(columns=['MEDV', 'RAD'], axis=1)\n",
    "y = data['MEDV']"
   ],
   "id": "1038849cfd46f99c",
   "execution_count": 20,
   "outputs": []
  },
  {
   "metadata": {
    "ExecuteTime": {
     "end_time": "2024-06-23T04:36:15.584776Z",
     "start_time": "2024-06-23T04:36:15.577187Z"
    }
   },
   "cell_type": "code",
   "source": [
    "data.insert(14, \"LinearRegression\", value=0)\n",
    "data.insert(15, \"DecisionTreeRegressor\", value=0)\n",
    "data.insert(16, \"RandomForestRegressor\", value=0)\n",
    "data.insert(17, \"ExtraTreesRegressor\", value=0)\n",
    "data.insert(18, \"XGBRegressor\", value=0)"
   ],
   "id": "180418c158fdd979",
   "execution_count": 21,
   "outputs": []
  },
  {
   "metadata": {
    "ExecuteTime": {
     "end_time": "2024-06-23T04:36:15.747734Z",
     "start_time": "2024-06-23T04:36:15.588786Z"
    }
   },
   "cell_type": "code",
   "source": [
    "from sklearn.model_selection import cross_val_score, train_test_split\n",
    "from sklearn.metrics import mean_squared_error\n",
    "def train(model, X, y, colnum):\n",
    "    # train the model\n",
    "    x_train, x_test, y_train, y_test = train_test_split(X, y, random_state=42)\n",
    "    model.fit(x_train, y_train)\n",
    "\n",
    "    # predict the training set\n",
    "    pred = model.predict(x_test)\n",
    "\n",
    "    for i in range(0,506,1):\n",
    "        data.iat[i,colnum]=model.predict([[data.iat[i,0],data.iat[i,1],data.iat[i,2],data.iat[i,3],data.iat[i,4],data.iat[i,5],data.iat[i,6],data.iat[i,7],data.iat[i,9],data.iat[i,10],data.iat[i,11],data.iat[i,12]]])\n",
    "    \n",
    "    # perform cross-validation\n",
    "    cv_score = cross_val_score(model, X, y, scoring='neg_mean_squared_error', cv=5)\n",
    "    cv_score = np.abs(np.mean(cv_score))\n",
    "\n",
    "    print(\"Model Report\")\n",
    "    print(\"MSE:\",mean_squared_error(y_test, pred))\n",
    "    print('CV Score:', cv_score)"
   ],
   "id": "2e029457c2a082ec",
   "execution_count": 22,
   "outputs": []
  },
  {
   "metadata": {},
   "cell_type": "markdown",
   "source": "## Linear Regression Model",
   "id": "9295dfa5f54b3f09"
  },
  {
   "metadata": {
    "ExecuteTime": {
     "end_time": "2024-06-23T04:36:16.230187Z",
     "start_time": "2024-06-23T04:36:15.748745Z"
    }
   },
   "cell_type": "code",
   "source": [
    "from sklearn.linear_model import LinearRegression\n",
    "model = LinearRegression()\n",
    "train(model, X, y, 14)\n",
    "coef = pd.Series(model.coef_, X.columns).sort_values()\n",
    "coef.plot(kind='bar', title='Model Coefficients')"
   ],
   "id": "72facb62e337bd4f",
   "execution_count": 23,
   "outputs": []
  },
  {
   "metadata": {},
   "cell_type": "markdown",
   "source": "## DecisionTreeRegressor",
   "id": "8a75347e1987d415"
  },
  {
   "metadata": {
    "ExecuteTime": {
     "end_time": "2024-06-23T04:36:16.756484Z",
     "start_time": "2024-06-23T04:36:16.231194Z"
    }
   },
   "cell_type": "code",
   "source": [
    "from sklearn.tree import DecisionTreeRegressor\n",
    "model = DecisionTreeRegressor()\n",
    "train(model, X, y,15)\n",
    "coef = pd.Series(model.feature_importances_, X.columns).sort_values(ascending=False)\n",
    "coef.plot(kind='bar', title='Feature Importance')"
   ],
   "id": "ff1e721f09f30fed",
   "execution_count": 24,
   "outputs": []
  },
  {
   "metadata": {},
   "cell_type": "markdown",
   "source": "## RandomForestRegressor",
   "id": "92de5365cacc4428"
  },
  {
   "metadata": {
    "ExecuteTime": {
     "end_time": "2024-06-23T04:36:20.477378Z",
     "start_time": "2024-06-23T04:36:16.757494Z"
    }
   },
   "cell_type": "code",
   "source": [
    "from sklearn.ensemble import RandomForestRegressor\n",
    "model = RandomForestRegressor()\n",
    "train(model, X, y,16)\n",
    "coef = pd.Series(model.feature_importances_, X.columns).sort_values(ascending=False)\n",
    "coef.plot(kind='bar', title='Feature Importance')"
   ],
   "id": "5f9a3d564f619fc3",
   "execution_count": 25,
   "outputs": []
  },
  {
   "metadata": {},
   "cell_type": "markdown",
   "source": "##  ExtraTreesRegressor",
   "id": "b063488d216e7da5"
  },
  {
   "metadata": {
    "ExecuteTime": {
     "end_time": "2024-06-23T04:36:22.844040Z",
     "start_time": "2024-06-23T04:36:20.478386Z"
    }
   },
   "cell_type": "code",
   "source": [
    "from sklearn.ensemble import ExtraTreesRegressor\n",
    "model = ExtraTreesRegressor()\n",
    "train(model, X, y,17)\n",
    "coef = pd.Series(model.feature_importances_, X.columns).sort_values(ascending=False)\n",
    "coef.plot(kind='bar', title='Feature Importance')"
   ],
   "id": "649b69b5c287df71",
   "execution_count": 26,
   "outputs": []
  },
  {
   "metadata": {},
   "cell_type": "markdown",
   "source": "## XGBRegressor",
   "id": "a54c0abe3c35db48"
  },
  {
   "metadata": {
    "ExecuteTime": {
     "end_time": "2024-06-23T04:36:23.949009Z",
     "start_time": "2024-06-23T04:36:22.846047Z"
    }
   },
   "cell_type": "code",
   "source": [
    "import xgboost as xgb\n",
    "model = xgb.XGBRegressor()\n",
    "train(model, X, y, 18)\n",
    "coef = pd.Series(model.feature_importances_, X.columns).sort_values(ascending=False)\n",
    "coef.plot(kind='bar', title='Feature Importance')"
   ],
   "id": "24824ff4297ae23d",
   "execution_count": 27,
   "outputs": []
  },
  {
   "metadata": {
    "ExecuteTime": {
     "end_time": "2024-06-23T04:36:23.969381Z",
     "start_time": "2024-06-23T04:36:23.950020Z"
    }
   },
   "cell_type": "code",
   "source": "data",
   "id": "84e627ef76bbd35d",
   "execution_count": 28,
   "outputs": []
  }
 ],
 "metadata": {
  "kernelspec": {
   "display_name": "Python 3",
   "language": "python",
   "name": "python3"
  },
  "language_info": {
   "codemirror_mode": {
    "name": "ipython",
    "version": 2
   },
   "file_extension": ".py",
   "mimetype": "text/x-python",
   "name": "python",
   "nbconvert_exporter": "python",
   "pygments_lexer": "ipython2",
   "version": "2.7.6"
  }
 },
 "nbformat": 4,
 "nbformat_minor": 5
}
