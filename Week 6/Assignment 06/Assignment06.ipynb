{
 "cells": [
  {
   "metadata": {},
   "cell_type": "markdown",
   "source": "# Import necessary libraries",
   "id": "dcbdbd119d8ae49d"
  },
  {
   "cell_type": "code",
   "id": "initial_id",
   "metadata": {
    "collapsed": true,
    "ExecuteTime": {
     "end_time": "2024-06-30T04:49:32.474742Z",
     "start_time": "2024-06-30T04:49:31.967967Z"
    }
   },
   "source": [
    "import pandas as pd\n",
    "from sklearn.preprocessing import StandardScaler\n",
    "from sklearn.model_selection import train_test_split\n",
    "from sklearn.linear_model import LogisticRegression\n",
    "from sklearn.metrics import accuracy_score, confusion_matrix, classification_report\n",
    "import warnings\n",
    "warnings.filterwarnings('ignore')"
   ],
   "execution_count": 1,
   "outputs": []
  },
  {
   "metadata": {},
   "cell_type": "markdown",
   "source": "# Load the dataset",
   "id": "707ec87b08856fe6"
  },
  {
   "metadata": {
    "ExecuteTime": {
     "end_time": "2024-06-30T04:49:32.489728Z",
     "start_time": "2024-06-30T04:49:32.476888Z"
    }
   },
   "cell_type": "code",
   "source": "df = pd.read_csv('titanic.csv')",
   "id": "6e0401d9e0d5d66b",
   "execution_count": 2,
   "outputs": []
  },
  {
   "metadata": {},
   "cell_type": "markdown",
   "source": [
    "# Data Preprocessing\n",
    "# Fill missing age values with the median age"
   ],
   "id": "2d21ca7026292fe0"
  },
  {
   "metadata": {
    "ExecuteTime": {
     "end_time": "2024-06-30T04:49:32.498403Z",
     "start_time": "2024-06-30T04:49:32.491753Z"
    }
   },
   "cell_type": "code",
   "source": "df['Age'].fillna(df['Age'].median(), inplace=True)",
   "id": "52eb04457bc2038c",
   "execution_count": 3,
   "outputs": []
  },
  {
   "metadata": {},
   "cell_type": "markdown",
   "source": "# Fill missing embarked values with the mode",
   "id": "6543c32e1e9c0b1a"
  },
  {
   "metadata": {
    "ExecuteTime": {
     "end_time": "2024-06-30T04:49:32.506566Z",
     "start_time": "2024-06-30T04:49:32.499415Z"
    }
   },
   "cell_type": "code",
   "source": "df['Embarked'].fillna(df['Embarked'].mode()[0], inplace=True)",
   "id": "583b5eb683648e16",
   "execution_count": 4,
   "outputs": []
  },
  {
   "metadata": {},
   "cell_type": "markdown",
   "source": "# Drop the 'Cabin' column",
   "id": "4c8a8bdca8aa901e"
  },
  {
   "metadata": {
    "ExecuteTime": {
     "end_time": "2024-06-30T04:49:32.521512Z",
     "start_time": "2024-06-30T04:49:32.510583Z"
    }
   },
   "cell_type": "code",
   "source": "df.drop(columns=['Cabin'], inplace=True)",
   "id": "b9c51cda8fb8dc33",
   "execution_count": 5,
   "outputs": []
  },
  {
   "metadata": {},
   "cell_type": "markdown",
   "source": "# Verify missing values are handled",
   "id": "ccd7b231435368a2"
  },
  {
   "metadata": {
    "ExecuteTime": {
     "end_time": "2024-06-30T04:49:32.532289Z",
     "start_time": "2024-06-30T04:49:32.523542Z"
    }
   },
   "cell_type": "code",
   "source": "print(df.isnull().sum())",
   "id": "bb05cf506c203725",
   "execution_count": 6,
   "outputs": []
  },
  {
   "metadata": {},
   "cell_type": "markdown",
   "source": [
    "# Encoding Categorical Variables\n",
    "# One-hot encode 'Sex' and 'Embarked' columns"
   ],
   "id": "ef1d9d4b16966702"
  },
  {
   "metadata": {
    "ExecuteTime": {
     "end_time": "2024-06-30T04:49:32.551360Z",
     "start_time": "2024-06-30T04:49:32.535299Z"
    }
   },
   "cell_type": "code",
   "source": [
    "df = pd.get_dummies(df, columns=['Sex', 'Embarked'], drop_first=True)\n",
    "print(df.head())"
   ],
   "id": "96829c5a7574b606",
   "execution_count": 7,
   "outputs": []
  },
  {
   "metadata": {},
   "cell_type": "markdown",
   "source": "",
   "id": "e48b6cc9fba10d97"
  },
  {
   "metadata": {},
   "cell_type": "markdown",
   "source": [
    "# Feature Scaling\n",
    "# Initialize the scaler"
   ],
   "id": "e6aa1e16aeddc996"
  },
  {
   "metadata": {
    "ExecuteTime": {
     "end_time": "2024-06-30T04:49:32.555806Z",
     "start_time": "2024-06-30T04:49:32.552371Z"
    }
   },
   "cell_type": "code",
   "source": "scaler = StandardScaler()",
   "id": "918a58a9bc7bb979",
   "execution_count": 8,
   "outputs": []
  },
  {
   "metadata": {},
   "cell_type": "markdown",
   "source": "# Scale 'Age' and 'Fare'",
   "id": "a656440bdd1ac900"
  },
  {
   "metadata": {
    "ExecuteTime": {
     "end_time": "2024-06-30T04:49:32.569414Z",
     "start_time": "2024-06-30T04:49:32.557818Z"
    }
   },
   "cell_type": "code",
   "source": [
    "df[['Age', 'Fare']] = scaler.fit_transform(df[['Age', 'Fare']])\n",
    "print(df[['Age', 'Fare']].head())"
   ],
   "id": "ea487478b77ee2f",
   "execution_count": 9,
   "outputs": []
  },
  {
   "metadata": {},
   "cell_type": "markdown",
   "source": [
    "# Model Building\n",
    "# Define feature matrix and target vector"
   ],
   "id": "95ea38b5d1507db9"
  },
  {
   "metadata": {
    "ExecuteTime": {
     "end_time": "2024-06-30T04:49:32.576288Z",
     "start_time": "2024-06-30T04:49:32.570424Z"
    }
   },
   "cell_type": "code",
   "source": [
    "X = df.drop(columns=['PassengerId', 'Name','Lname', 'Ticket', 'Survived'])\n",
    "y = df['Survived']"
   ],
   "id": "a7688a1c3d1bdafa",
   "execution_count": 10,
   "outputs": []
  },
  {
   "metadata": {},
   "cell_type": "markdown",
   "source": "# Split data into training and testing sets",
   "id": "e7a9f1635f6e959f"
  },
  {
   "metadata": {
    "ExecuteTime": {
     "end_time": "2024-06-30T04:49:32.587876Z",
     "start_time": "2024-06-30T04:49:32.577297Z"
    }
   },
   "cell_type": "code",
   "source": "X_train, X_test, y_train, y_test = train_test_split(X, y, test_size=0.2, random_state=42)",
   "id": "691f783293235bdc",
   "execution_count": 11,
   "outputs": []
  },
  {
   "metadata": {},
   "cell_type": "markdown",
   "source": "# Initialize and train the model",
   "id": "574792700aefb1fd"
  },
  {
   "metadata": {
    "ExecuteTime": {
     "end_time": "2024-06-30T04:49:32.611990Z",
     "start_time": "2024-06-30T04:49:32.588889Z"
    }
   },
   "cell_type": "code",
   "source": [
    "model = LogisticRegression()\n",
    "model.fit(X_train, y_train)"
   ],
   "id": "7637a2be269cabb6",
   "execution_count": 12,
   "outputs": []
  },
  {
   "metadata": {},
   "cell_type": "markdown",
   "source": "# Make predictions",
   "id": "de8dbdd4cbf1a998"
  },
  {
   "metadata": {
    "ExecuteTime": {
     "end_time": "2024-06-30T04:49:32.619839Z",
     "start_time": "2024-06-30T04:49:32.613Z"
    }
   },
   "cell_type": "code",
   "source": "y_pred = model.predict(X_test)",
   "id": "172b8765a19444af",
   "execution_count": 13,
   "outputs": []
  },
  {
   "metadata": {},
   "cell_type": "markdown",
   "source": "# Evaluate the model",
   "id": "c1eb9bd8963d3e75"
  },
  {
   "metadata": {
    "ExecuteTime": {
     "end_time": "2024-06-30T04:49:32.639318Z",
     "start_time": "2024-06-30T04:49:32.622872Z"
    }
   },
   "cell_type": "code",
   "source": [
    "accuracy = accuracy_score(y_test, y_pred)\n",
    "conf_matrix = confusion_matrix(y_test, y_pred)\n",
    "class_report = classification_report(y_test, y_pred)"
   ],
   "id": "7fa1c9af42d95783",
   "execution_count": 14,
   "outputs": []
  },
  {
   "metadata": {
    "ExecuteTime": {
     "end_time": "2024-06-30T04:49:32.646362Z",
     "start_time": "2024-06-30T04:49:32.640331Z"
    }
   },
   "cell_type": "code",
   "source": [
    "print(f\"Accuracy: {accuracy}\")\n",
    "print(f\"Confusion Matrix:\\n{conf_matrix}\")\n",
    "print(f\"Classification Report:\\n{class_report}\")"
   ],
   "id": "ea25b94074bad365",
   "execution_count": 15,
   "outputs": []
  },
  {
   "metadata": {},
   "cell_type": "markdown",
   "source": "# Import necessary libraries for visualization",
   "id": "5ab1a0d3f38a6b43"
  },
  {
   "metadata": {
    "ExecuteTime": {
     "end_time": "2024-06-30T04:49:32.654890Z",
     "start_time": "2024-06-30T04:49:32.649387Z"
    }
   },
   "cell_type": "code",
   "source": [
    "import matplotlib.pyplot as plt\n",
    "import seaborn as sns\n",
    "from sklearn.metrics import roc_curve, roc_auc_score"
   ],
   "id": "4c062ebf24220967",
   "execution_count": 16,
   "outputs": []
  },
  {
   "metadata": {},
   "cell_type": "markdown",
   "source": "# Plot Confusion Matrix",
   "id": "fc3d81912032d5a7"
  },
  {
   "metadata": {
    "ExecuteTime": {
     "end_time": "2024-06-30T04:49:32.975006Z",
     "start_time": "2024-06-30T04:49:32.655904Z"
    }
   },
   "cell_type": "code",
   "source": [
    "plt.figure(figsize=(10, 7))\n",
    "sns.heatmap(conf_matrix, annot=True, fmt='d', cmap='Blues', xticklabels=['Not Survived', 'Survived'], yticklabels=['Not Survived', 'Survived'])\n",
    "plt.title('Confusion Matrix')\n",
    "plt.xlabel('Predicted')\n",
    "plt.ylabel('Actual')\n",
    "plt.show()"
   ],
   "id": "43aa66ae10c51347",
   "execution_count": 17,
   "outputs": []
  },
  {
   "metadata": {},
   "cell_type": "markdown",
   "source": "# Plot ROC Curve",
   "id": "828dd95b2e142764"
  },
  {
   "metadata": {
    "ExecuteTime": {
     "end_time": "2024-06-30T04:49:32.994253Z",
     "start_time": "2024-06-30T04:49:32.980018Z"
    }
   },
   "cell_type": "code",
   "source": [
    "y_prob = model.predict_proba(X_test)[:, 1]\n",
    "fpr, tpr, thresholds = roc_curve(y_test, y_prob)\n",
    "roc_auc = roc_auc_score(y_test, y_prob)"
   ],
   "id": "4f2b0c206b0ee573",
   "execution_count": 18,
   "outputs": []
  },
  {
   "metadata": {
    "ExecuteTime": {
     "end_time": "2024-06-30T04:49:33.265392Z",
     "start_time": "2024-06-30T04:49:32.996264Z"
    }
   },
   "cell_type": "code",
   "source": [
    "plt.figure(figsize=(10, 7))\n",
    "plt.plot(fpr, tpr, color='blue', lw=2, label=f'ROC curve (area = {roc_auc:.2f})')\n",
    "plt.plot([0, 1], [0, 1], color='red', lw=2, linestyle='--')\n",
    "plt.xlim([0.0, 1.0])\n",
    "plt.ylim([0.0, 1.05])\n",
    "plt.xlabel('False Positive Rate')\n",
    "plt.ylabel('True Positive Rate')\n",
    "plt.title('Receiver Operating Characteristic (ROC) Curve')\n",
    "plt.legend(loc='lower right')\n",
    "plt.show()"
   ],
   "id": "a9bca515bf1f50a",
   "execution_count": 19,
   "outputs": []
  },
  {
   "metadata": {},
   "cell_type": "markdown",
   "source": "# Feature Importance",
   "id": "6bbd55799c6d92e2"
  },
  {
   "metadata": {
    "ExecuteTime": {
     "end_time": "2024-06-30T04:49:33.273266Z",
     "start_time": "2024-06-30T04:49:33.266408Z"
    }
   },
   "cell_type": "code",
   "source": [
    "feature_importance = pd.DataFrame({'Feature': X.columns, 'Coefficient': model.coef_[0]})\n",
    "feature_importance = feature_importance.sort_values(by='Coefficient', ascending=False)"
   ],
   "id": "fc3c00201fdd6e6f",
   "execution_count": 20,
   "outputs": []
  },
  {
   "metadata": {
    "ExecuteTime": {
     "end_time": "2024-06-30T04:49:33.576119Z",
     "start_time": "2024-06-30T04:49:33.275276Z"
    }
   },
   "cell_type": "code",
   "source": [
    "plt.figure(figsize=(10, 7))\n",
    "sns.barplot(x='Coefficient', y='Feature', data=feature_importance)\n",
    "plt.title('Feature Importance')\n",
    "plt.show()"
   ],
   "id": "6033882a82440608",
   "execution_count": 21,
   "outputs": []
  }
 ],
 "metadata": {
  "kernelspec": {
   "display_name": "Python 3",
   "language": "python",
   "name": "python3"
  },
  "language_info": {
   "codemirror_mode": {
    "name": "ipython",
    "version": 2
   },
   "file_extension": ".py",
   "mimetype": "text/x-python",
   "name": "python",
   "nbconvert_exporter": "python",
   "pygments_lexer": "ipython2",
   "version": "2.7.6"
  }
 },
 "nbformat": 4,
 "nbformat_minor": 5
}
