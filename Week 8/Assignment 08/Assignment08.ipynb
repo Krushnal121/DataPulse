{
 "cells": [
  {
   "metadata": {},
   "cell_type": "markdown",
   "source": [
    "# Loan Approval Prediction\n",
    "## Importing Necessary Libraries"
   ],
   "id": "7223d52aa5a4f5bb"
  },
  {
   "cell_type": "code",
   "id": "initial_id",
   "metadata": {
    "collapsed": true,
    "ExecuteTime": {
     "end_time": "2024-07-13T05:04:34.438493Z",
     "start_time": "2024-07-13T05:04:34.430187Z"
    }
   },
   "source": [
    "import pandas as pd\n",
    "from sklearn.model_selection import train_test_split\n",
    "from sklearn.preprocessing import LabelEncoder, StandardScaler\n",
    "from sklearn.impute import SimpleImputer\n",
    "from sklearn.ensemble import RandomForestClassifier\n",
    "from sklearn.metrics import accuracy_score\n",
    "import warnings\n",
    "warnings.filterwarnings('ignore')"
   ],
   "execution_count": 39,
   "outputs": []
  },
  {
   "metadata": {},
   "cell_type": "markdown",
   "source": "## Load the datasets",
   "id": "31fa4d2564ab606c"
  },
  {
   "metadata": {
    "ExecuteTime": {
     "end_time": "2024-07-13T05:04:34.575479Z",
     "start_time": "2024-07-13T05:04:34.559110Z"
    }
   },
   "cell_type": "code",
   "source": [
    "train_df = pd.read_csv('./Training Dataset.csv')\n",
    "test_df = pd.read_csv('./Test Dataset.csv')\n",
    "sample_submission_df = pd.read_csv('./Sample_Submission.csv')"
   ],
   "id": "c4b928c5f1f1b9f4",
   "execution_count": 40,
   "outputs": []
  },
  {
   "metadata": {},
   "cell_type": "markdown",
   "source": "## Data preprocessing",
   "id": "23c48ffe6e2f1c0b"
  },
  {
   "metadata": {
    "ExecuteTime": {
     "end_time": "2024-07-13T05:04:34.590648Z",
     "start_time": "2024-07-13T05:04:34.582484Z"
    }
   },
   "cell_type": "code",
   "source": [
    "def preprocess_data(df):\n",
    "    # Fill missing values for categorical columns with the mode\n",
    "    categorical_cols = ['Gender', 'Married', 'Dependents', 'Self_Employed', 'Credit_History']\n",
    "    for col in categorical_cols:\n",
    "        df[col].fillna(df[col].mode()[0], inplace=True)\n",
    "\n",
    "    # Fill missing values for numerical columns with the mean\n",
    "    numerical_cols = ['LoanAmount', 'Loan_Amount_Term', 'ApplicantIncome', 'CoapplicantIncome']\n",
    "    for col in numerical_cols:\n",
    "        df[col].fillna(df[col].mean(), inplace=True)\n",
    "\n",
    "    # Encode categorical variables\n",
    "    label_encoder = LabelEncoder()\n",
    "    categorical_cols = ['Gender', 'Married', 'Dependents', 'Education', 'Self_Employed', 'Property_Area']\n",
    "    for col in categorical_cols:\n",
    "        df[col] = label_encoder.fit_transform(df[col])\n",
    "\n",
    "    return df"
   ],
   "id": "13371e6648ac411",
   "execution_count": 41,
   "outputs": []
  },
  {
   "metadata": {
    "ExecuteTime": {
     "end_time": "2024-07-13T05:04:34.625966Z",
     "start_time": "2024-07-13T05:04:34.603310Z"
    }
   },
   "cell_type": "code",
   "source": [
    "train_df = preprocess_data(train_df)\n",
    "test_df = preprocess_data(test_df)"
   ],
   "id": "87259dc45179d085",
   "execution_count": 42,
   "outputs": []
  },
  {
   "metadata": {},
   "cell_type": "markdown",
   "source": "## Prepare training and validation datasets",
   "id": "4b866e10ef4db240"
  },
  {
   "metadata": {
    "ExecuteTime": {
     "end_time": "2024-07-13T05:04:34.638426Z",
     "start_time": "2024-07-13T05:04:34.630992Z"
    }
   },
   "cell_type": "code",
   "source": [
    "X = train_df.drop(columns=['Loan_ID', 'Loan_Status'])\n",
    "y = train_df['Loan_Status'].apply(lambda x: 1 if x == 'Y' else 0)"
   ],
   "id": "98c306c06a337d87",
   "execution_count": 43,
   "outputs": []
  },
  {
   "metadata": {
    "ExecuteTime": {
     "end_time": "2024-07-13T05:04:34.714014Z",
     "start_time": "2024-07-13T05:04:34.705123Z"
    }
   },
   "cell_type": "code",
   "source": "X_train, X_val, y_train, y_val = train_test_split(X, y, test_size=0.2, random_state=42)",
   "id": "7e4a9874f27e0a4b",
   "execution_count": 44,
   "outputs": []
  },
  {
   "metadata": {},
   "cell_type": "markdown",
   "source": "## Standardize the data",
   "id": "62aeb6a40e560ff7"
  },
  {
   "metadata": {
    "ExecuteTime": {
     "end_time": "2024-07-13T05:04:34.764139Z",
     "start_time": "2024-07-13T05:04:34.745866Z"
    }
   },
   "cell_type": "code",
   "source": [
    "scaler = StandardScaler()\n",
    "X_train = scaler.fit_transform(X_train)\n",
    "X_val = scaler.transform(X_val)\n",
    "X_test = scaler.transform(test_df.drop(columns=['Loan_ID']))"
   ],
   "id": "80e0837dffbf3e90",
   "execution_count": 45,
   "outputs": []
  },
  {
   "metadata": {},
   "cell_type": "markdown",
   "source": "## Train a RandomForestClassifier model",
   "id": "1cc8000279b2e7f6"
  },
  {
   "metadata": {
    "ExecuteTime": {
     "end_time": "2024-07-13T05:04:35.121051Z",
     "start_time": "2024-07-13T05:04:34.820007Z"
    }
   },
   "cell_type": "code",
   "source": [
    "model = RandomForestClassifier(n_estimators=100, random_state=42)\n",
    "model.fit(X_train, y_train)\n"
   ],
   "id": "2cf9b1a16918921c",
   "execution_count": 46,
   "outputs": []
  },
  {
   "metadata": {},
   "cell_type": "markdown",
   "source": "## Make predictions",
   "id": "a357f5abe93f0959"
  },
  {
   "metadata": {
    "ExecuteTime": {
     "end_time": "2024-07-13T05:04:35.148559Z",
     "start_time": "2024-07-13T05:04:35.123635Z"
    }
   },
   "cell_type": "code",
   "source": [
    "y_pred = model.predict(X_val)\n",
    "accuracy = accuracy_score(y_val, y_pred)\n",
    "print(f\"Validation Accuracy: {accuracy:.2f}\")"
   ],
   "id": "6b48cf4620b6670a",
   "execution_count": 47,
   "outputs": []
  },
  {
   "metadata": {},
   "cell_type": "markdown",
   "source": "## Predict on the test data",
   "id": "2857db185e43c785"
  },
  {
   "metadata": {
    "ExecuteTime": {
     "end_time": "2024-07-13T05:04:35.166231Z",
     "start_time": "2024-07-13T05:04:35.150571Z"
    }
   },
   "cell_type": "code",
   "source": [
    "test_predictions = model.predict(X_test)\n",
    "test_predictions = ['Y' if pred == 1 else 'N' for pred in test_predictions]"
   ],
   "id": "bfab8526461fda73",
   "execution_count": 48,
   "outputs": []
  },
  {
   "metadata": {},
   "cell_type": "markdown",
   "source": "# Prepare the submission file",
   "id": "93ae6b37fc80e3fc"
  },
  {
   "metadata": {
    "ExecuteTime": {
     "end_time": "2024-07-13T05:04:35.177756Z",
     "start_time": "2024-07-13T05:04:35.168239Z"
    }
   },
   "cell_type": "code",
   "source": [
    "submission_df = pd.DataFrame({'Loan_ID': test_df['Loan_ID'], 'Loan_Status': test_predictions})\n",
    "submission_df.to_csv('submission.csv', index=False)"
   ],
   "id": "f3bc7d617a3277a1",
   "execution_count": 49,
   "outputs": []
  },
  {
   "metadata": {
    "ExecuteTime": {
     "end_time": "2024-07-13T05:04:35.184434Z",
     "start_time": "2024-07-13T05:04:35.179067Z"
    }
   },
   "cell_type": "code",
   "source": "print(\"Submission file has been created.\")",
   "id": "a9757318d4da1db6",
   "execution_count": 50,
   "outputs": []
  },
  {
   "metadata": {
    "ExecuteTime": {
     "end_time": "2024-07-13T05:10:03.784303Z",
     "start_time": "2024-07-13T05:10:03.715749Z"
    }
   },
   "cell_type": "code",
   "source": "submission_data=pd.read_csv('submission.csv')",
   "id": "c53e953218cbc0d1",
   "execution_count": 51,
   "outputs": []
  },
  {
   "metadata": {
    "ExecuteTime": {
     "end_time": "2024-07-13T05:10:09.273099Z",
     "start_time": "2024-07-13T05:10:09.258353Z"
    }
   },
   "cell_type": "code",
   "source": "submission_data",
   "id": "410bea6d08fc1c3c",
   "execution_count": 52,
   "outputs": []
  }
 ],
 "metadata": {
  "kernelspec": {
   "display_name": "Python 3",
   "language": "python",
   "name": "python3"
  },
  "language_info": {
   "codemirror_mode": {
    "name": "ipython",
    "version": 2
   },
   "file_extension": ".py",
   "mimetype": "text/x-python",
   "name": "python",
   "nbconvert_exporter": "python",
   "pygments_lexer": "ipython2",
   "version": "2.7.6"
  }
 },
 "nbformat": 4,
 "nbformat_minor": 5
}
