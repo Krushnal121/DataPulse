{
 "cells": [
  {
   "metadata": {},
   "cell_type": "markdown",
   "source": "# Import necessary libraries",
   "id": "41a38f642b592c4b"
  },
  {
   "metadata": {
    "ExecuteTime": {
     "end_time": "2024-06-10T04:52:20.478533Z",
     "start_time": "2024-06-10T04:52:19.325711Z"
    }
   },
   "cell_type": "code",
   "source": [
    "import pandas as pd\n",
    "import matplotlib.pyplot as plt\n",
    "import seaborn as sns\n",
    "import plotly.express as px\n",
    "import plotly.graph_objects as go\n",
    "from plotly.subplots import make_subplots\n",
    "import networkx as nx\n",
    "from wordcloud import WordCloud\n",
    "import squarify\n",
    "import numpy as np\n",
    "from scipy.stats import gaussian_kde\n",
    "from bokeh.plotting import figure, output_notebook, show\n",
    "from bokeh.layouts import gridplot\n",
    "from bokeh.io import push_notebook\n",
    "import folium\n",
    "import statsmodels.api as sm\n",
    "from matplotlib_venn import venn2\n",
    "import warnings\n",
    "warnings.filterwarnings('ignore')"
   ],
   "id": "e72cbcd4171670f4",
   "execution_count": 1,
   "outputs": []
  },
  {
   "metadata": {},
   "cell_type": "markdown",
   "source": "# Load the dataset",
   "id": "2bf963d889cc145a"
  },
  {
   "metadata": {
    "ExecuteTime": {
     "end_time": "2024-06-10T04:52:20.992216Z",
     "start_time": "2024-06-10T04:52:20.479968Z"
    }
   },
   "cell_type": "code",
   "source": [
    "url = 'https://raw.githubusercontent.com/datasciencedojo/datasets/master/titanic.csv'\n",
    "df = pd.read_csv(url)"
   ],
   "id": "f17d0d9beb51fc01",
   "execution_count": 2,
   "outputs": []
  },
  {
   "metadata": {},
   "cell_type": "markdown",
   "source": "# Show first few rows of the dataset",
   "id": "55d365b9cab0976"
  },
  {
   "metadata": {
    "ExecuteTime": {
     "end_time": "2024-06-10T04:52:21.012089Z",
     "start_time": "2024-06-10T04:52:20.993221Z"
    }
   },
   "cell_type": "code",
   "source": "df.head()",
   "id": "57646ad7c3a564aa",
   "execution_count": 3,
   "outputs": []
  },
  {
   "metadata": {},
   "cell_type": "markdown",
   "source": "# Basic Charts",
   "id": "373d5c1016a5a36c"
  },
  {
   "metadata": {},
   "cell_type": "markdown",
   "source": "# 1. Bar Chart",
   "id": "ae6f4e41cc6155d2"
  },
  {
   "metadata": {
    "ExecuteTime": {
     "end_time": "2024-06-10T04:52:21.207031Z",
     "start_time": "2024-06-10T04:52:21.013099Z"
    }
   },
   "cell_type": "code",
   "source": [
    "plt.figure(figsize=(10, 6))\n",
    "sns.countplot(data=df, x='Pclass')\n",
    "plt.title('Number of Passengers in Each Class')\n",
    "plt.show()"
   ],
   "id": "81b4cedcbfa8c8f0",
   "execution_count": 4,
   "outputs": []
  },
  {
   "metadata": {},
   "cell_type": "markdown",
   "source": "# 2. Line Chart",
   "id": "ce01972b3cd19488"
  },
  {
   "metadata": {
    "ExecuteTime": {
     "end_time": "2024-06-10T04:52:21.407825Z",
     "start_time": "2024-06-10T04:52:21.208038Z"
    }
   },
   "cell_type": "code",
   "source": [
    "df['Survived'].value_counts().sort_index().plot(kind='line', figsize=(10, 6))\n",
    "plt.title('Survival Count Over Classes')\n",
    "plt.xlabel('Survived')\n",
    "plt.ylabel('Count')\n",
    "plt.show()"
   ],
   "id": "e8640856c420b0d4",
   "execution_count": 5,
   "outputs": []
  },
  {
   "metadata": {},
   "cell_type": "markdown",
   "source": "# 3. Pie Chart",
   "id": "cac7cd9d9544156d"
  },
  {
   "metadata": {
    "ExecuteTime": {
     "end_time": "2024-06-10T04:52:21.491096Z",
     "start_time": "2024-06-10T04:52:21.408832Z"
    }
   },
   "cell_type": "code",
   "source": [
    "df['Survived'].value_counts().plot(kind='pie', autopct='%1.1f%%', figsize=(8, 8))\n",
    "plt.title('Survival Rate')\n",
    "plt.ylabel('')\n",
    "plt.show()"
   ],
   "id": "fdb015a942d76787",
   "execution_count": 6,
   "outputs": []
  },
  {
   "metadata": {},
   "cell_type": "markdown",
   "source": "# 4. Scatter Plot",
   "id": "c0dd9396b745fdc3"
  },
  {
   "metadata": {
    "ExecuteTime": {
     "end_time": "2024-06-10T04:52:21.726148Z",
     "start_time": "2024-06-10T04:52:21.492106Z"
    }
   },
   "cell_type": "code",
   "source": [
    "plt.figure(figsize=(10, 6))\n",
    "plt.scatter(df['Age'], df['Fare'])\n",
    "plt.title('Age vs Fare')\n",
    "plt.xlabel('Age')\n",
    "plt.ylabel('Fare')\n",
    "plt.show()"
   ],
   "id": "82cc7b0882264532",
   "execution_count": 7,
   "outputs": []
  },
  {
   "metadata": {},
   "cell_type": "markdown",
   "source": "# 5. Histogram",
   "id": "94e417bce180580e"
  },
  {
   "metadata": {
    "ExecuteTime": {
     "end_time": "2024-06-10T04:52:21.935400Z",
     "start_time": "2024-06-10T04:52:21.729156Z"
    }
   },
   "cell_type": "code",
   "source": [
    "plt.figure(figsize=(10, 6))\n",
    "df['Age'].plot(kind='hist', bins=30)\n",
    "plt.title('Age Distribution')\n",
    "plt.xlabel('Age')\n",
    "plt.ylabel('Frequency')\n",
    "plt.show()"
   ],
   "id": "da4eeb357598d8c3",
   "execution_count": 8,
   "outputs": []
  },
  {
   "metadata": {},
   "cell_type": "markdown",
   "source": "# Advanced Charts",
   "id": "6f211edeb6ae2cd5"
  },
  {
   "metadata": {},
   "cell_type": "markdown",
   "source": "# 6. Box Plot",
   "id": "394adc3aad0e30bd"
  },
  {
   "metadata": {
    "ExecuteTime": {
     "end_time": "2024-06-10T04:52:22.101494Z",
     "start_time": "2024-06-10T04:52:21.936406Z"
    }
   },
   "cell_type": "code",
   "source": [
    "plt.figure(figsize=(10, 6))\n",
    "sns.boxplot(data=df, x='Pclass', y='Fare')\n",
    "plt.title('Box Plot of Fares by Class')\n",
    "plt.show()"
   ],
   "id": "c37852a25f58ac49",
   "execution_count": 9,
   "outputs": []
  },
  {
   "metadata": {},
   "cell_type": "markdown",
   "source": "# 7. Heatmap",
   "id": "7244b2e7127af086"
  },
  {
   "metadata": {
    "ExecuteTime": {
     "end_time": "2024-06-10T04:52:23.851293Z",
     "start_time": "2024-06-10T04:52:22.102502Z"
    }
   },
   "cell_type": "code",
   "source": [
    "plt.figure(figsize=(10, 6))\n",
    "sns.heatmap(df.corr(), annot=True, cmap='coolwarm', linewidths=0.5)\n",
    "plt.title('Heatmap of Correlation Matrix')\n",
    "plt.show()"
   ],
   "id": "f99590570c039764",
   "execution_count": 10,
   "outputs": []
  },
  {
   "metadata": {},
   "cell_type": "markdown",
   "source": "# 8. Area Chart",
   "id": "38dff77066565bce"
  },
  {
   "metadata": {},
   "cell_type": "code",
   "source": [
    "df['Fare'].plot(kind='area', figsize=(10, 6), alpha=0.5)\n",
    "plt.title('Fare Area Chart')\n",
    "plt.xlabel('Index')\n",
    "plt.ylabel('Fare')\n",
    "plt.show()"
   ],
   "id": "485aeaf5407761f4",
   "execution_count": null,
   "outputs": []
  },
  {
   "metadata": {},
   "cell_type": "markdown",
   "source": "# 9. Sankey Diagram",
   "id": "a350dcf2ea78c0f9"
  },
  {
   "metadata": {},
   "cell_type": "code",
   "source": [
    "fig = go.Figure(go.Sankey(\n",
    "    node=dict(\n",
    "        pad=15,\n",
    "        thickness=20,\n",
    "        line=dict(color=\"black\", width=0.5),\n",
    "        label=[\"1st Class\", \"2nd Class\", \"3rd Class\", \"Survived\", \"Not Survived\"],\n",
    "        color=[\"blue\", \"green\", \"red\", \"yellow\", \"purple\"]\n",
    "    ),\n",
    "    link=dict(\n",
    "        source=[0, 1, 2, 0, 1, 2],\n",
    "        target=[3, 3, 3, 4, 4, 4],\n",
    "        value=[85, 17, 119, 80, 14, 372]\n",
    "    )\n",
    "))\n",
    "fig.update_layout(title_text=\"Sankey Diagram\", font_size=10)\n",
    "fig.show()"
   ],
   "id": "c2a9ff949358a265",
   "execution_count": null,
   "outputs": []
  },
  {
   "metadata": {},
   "cell_type": "markdown",
   "source": "# 10. Radar Chart (Spider Chart)",
   "id": "83abcedb3a5fba54"
  },
  {
   "metadata": {},
   "cell_type": "code",
   "source": [
    "categories = ['Pclass', 'Age', 'Fare', 'Survived']\n",
    "values = df[categories].mean().values.flatten().tolist()\n",
    "values += values[:1]\n",
    "categories += categories[:1]\n",
    "fig = go.Figure(data=go.Scatterpolar(r=values, theta=categories, fill='toself'))\n",
    "fig.update_layout(polar=dict(radialaxis=dict(visible=True)), showlegend=False)\n",
    "fig.show()"
   ],
   "id": "756afb1fd9794340",
   "execution_count": null,
   "outputs": []
  },
  {
   "metadata": {},
   "cell_type": "markdown",
   "source": "# 11. Network Graph",
   "id": "10f099d12a6d5896"
  },
  {
   "metadata": {},
   "cell_type": "code",
   "source": [
    "G = nx.Graph()\n",
    "G.add_edges_from([(1, 2), (1, 3), (2, 4), (3, 4)])\n",
    "plt.figure(figsize=(10, 6))\n",
    "nx.draw(G, with_labels=True, node_color='skyblue', node_size=500, edge_color='gray')\n",
    "plt.title('Network Graph')\n",
    "plt.show()"
   ],
   "id": "4c8b15b4fcc3f5cf",
   "execution_count": null,
   "outputs": []
  },
  {
   "metadata": {},
   "cell_type": "markdown",
   "source": "# 12. Donut Chart",
   "id": "de9606d5581bdafd"
  },
  {
   "metadata": {},
   "cell_type": "code",
   "source": [
    "plt.figure(figsize=(8, 8))\n",
    "df['Survived'].value_counts().plot(kind='pie', autopct='%1.1f%%', wedgeprops=dict(width=0.3))\n",
    "plt.title('Donut Chart of Survival Rate')\n",
    "plt.ylabel('')\n",
    "plt.show()"
   ],
   "id": "b729b71550f4ed7c",
   "execution_count": null,
   "outputs": []
  },
  {
   "metadata": {},
   "cell_type": "markdown",
   "source": "# 13. Gauge Chart",
   "id": "d6c9cd6f381c5b97"
  },
  {
   "metadata": {},
   "cell_type": "code",
   "source": [
    "fig = go.Figure(go.Indicator(\n",
    "    mode=\"gauge+number\",\n",
    "    value=df['Fare'].mean(),\n",
    "    title={'text': \"Average Fare\"},\n",
    "    gauge={'axis': {'range': [None, df['Fare'].max()]}}\n",
    "))\n",
    "fig.show()"
   ],
   "id": "1642dd3e3333919",
   "execution_count": null,
   "outputs": []
  },
  {
   "metadata": {},
   "cell_type": "markdown",
   "source": "# 14. Sunburst Chart",
   "id": "4b811a85ceec6c7c"
  },
  {
   "metadata": {},
   "cell_type": "code",
   "source": [
    "fig = px.sunburst(df, path=['Pclass', 'Sex', 'Survived'], values='Fare')\n",
    "fig.show()"
   ],
   "id": "c5bd036874e9e50e",
   "execution_count": null,
   "outputs": []
  },
  {
   "metadata": {},
   "cell_type": "markdown",
   "source": "# 15. Hexbin Plot",
   "id": "f444f9a3235218fb"
  },
  {
   "metadata": {},
   "cell_type": "code",
   "source": [
    "plt.figure(figsize=(10, 6))\n",
    "plt.hexbin(df['Age'], df['Fare'], gridsize=30, cmap='Blues')\n",
    "plt.colorbar(label='count in bin')\n",
    "plt.xlabel('Age')\n",
    "plt.ylabel('Fare')\n",
    "plt.title('Hexbin Plot')\n",
    "plt.show()"
   ],
   "id": "a3c8768d89276e78",
   "execution_count": null,
   "outputs": []
  },
  {
   "metadata": {},
   "cell_type": "markdown",
   "source": "# 16. Violin Plot",
   "id": "1dedd71cb30823b6"
  },
  {
   "metadata": {},
   "cell_type": "code",
   "source": [
    "plt.figure(figsize=(10, 6))\n",
    "sns.violinplot(x='Pclass', y='Fare', data=df)\n",
    "plt.title('Violin Plot of Fare by Class')\n",
    "plt.show()"
   ],
   "id": "7a73646da9a8ea6d",
   "execution_count": null,
   "outputs": []
  },
  {
   "metadata": {},
   "cell_type": "markdown",
   "source": "# 17. Parallel Coordinates",
   "id": "10771f2b9659c37d"
  },
  {
   "metadata": {},
   "cell_type": "code",
   "source": [
    "from pandas.plotting import parallel_coordinates\n",
    "plt.figure(figsize=(15, 6))\n",
    "parallel_coordinates(df[['Pclass', 'Age', 'Fare', 'Survived']].dropna(), 'Survived', color=('#556270', '#4ECDC4', '#C7F464'))\n",
    "plt.title('Parallel Coordinates Plot')\n",
    "plt.show()"
   ],
   "id": "3103c2ed3498aca7",
   "execution_count": null,
   "outputs": []
  },
  {
   "metadata": {},
   "cell_type": "markdown",
   "source": "# 18. Choropleth Map",
   "id": "37f4201946b00971"
  },
  {
   "metadata": {},
   "cell_type": "code",
   "source": [
    "# For demonstration, we will use a dataset with geographical data\n",
    "map_data = pd.DataFrame({\n",
    "    'City': ['Southampton', 'Cherbourg', 'Queenstown'],\n",
    "    'Latitude': [50.9078, 49.6456, 51.8493],\n",
    "    'Longitude': [-1.4044, -1.6221, -8.2997],\n",
    "    'Passengers': [644, 168, 77]\n",
    "})\n",
    "fig = px.scatter_geo(map_data, lat='Latitude', lon='Longitude', color='Passengers',\n",
    "                     size='Passengers', hover_name='City', projection='natural earth')\n",
    "fig.update_layout(title='Choropleth Map of Passengers')\n",
    "fig.show()"
   ],
   "id": "7f42cfff3b272f76",
   "execution_count": null,
   "outputs": []
  },
  {
   "metadata": {},
   "cell_type": "markdown",
   "source": "# 19. Strip Plot",
   "id": "b2741eaa07f2af9a"
  },
  {
   "metadata": {},
   "cell_type": "code",
   "source": [
    "plt.figure(figsize=(10, 6))\n",
    "sns.stripplot(x='Pclass', y='Fare', data=df)\n",
    "plt.title('Strip Plot of Fare by Class')\n",
    "plt.show()"
   ],
   "id": "cac7e65b29c58727",
   "execution_count": null,
   "outputs": []
  },
  {
   "metadata": {},
   "cell_type": "markdown",
   "source": "# 20. Swarm Plot",
   "id": "1bbf8a71199029bc"
  },
  {
   "metadata": {},
   "cell_type": "code",
   "source": [
    "plt.figure(figsize=(10, 6))\n",
    "sns.swarmplot(x='Pclass', y='Fare', data=df)\n",
    "plt.title('Swarm Plot of Fare by Class')\n",
    "plt.show()"
   ],
   "id": "6ce9446bc97db3cd",
   "execution_count": null,
   "outputs": []
  },
  {
   "metadata": {},
   "cell_type": "markdown",
   "source": "# 3D Visualizations",
   "id": "eb5c919d3a0f8434"
  },
  {
   "metadata": {},
   "cell_type": "markdown",
   "source": "# 21. 3D Scatter Plot",
   "id": "184b1e6ec986d65e"
  },
  {
   "metadata": {},
   "cell_type": "code",
   "source": [
    "fig = px.scatter_3d(df, x='Age', y='Fare', z='Pclass', color='Survived')\n",
    "fig.show()"
   ],
   "id": "e955fc8f3aed10fe",
   "execution_count": null,
   "outputs": []
  },
  {
   "metadata": {},
   "cell_type": "markdown",
   "source": "# 22. 3D Line Plot",
   "id": "e90948b0cda88bca"
  },
  {
   "metadata": {},
   "cell_type": "code",
   "source": [
    "# Creating a sample 3D line plot (Titanic dataset doesn't naturally lend itself to 3D line plots)\n",
    "t = np.linspace(0, 2*np.pi, 100)\n",
    "x = t\n",
    "y = np.sin(t)\n",
    "z = np.cos(t)\n",
    "fig = go.Figure(data=[go.Scatter3d(x=x, y=y, z=z, mode='lines')])\n",
    "fig.update_layout(title='3D Line Plot')\n",
    "fig.show()"
   ],
   "id": "825293aa1a4ae1d2",
   "execution_count": null,
   "outputs": []
  },
  {
   "metadata": {},
   "cell_type": "markdown",
   "source": "# 23. 3D Surface Plot",
   "id": "dd9b5790aacd37bf"
  },
  {
   "metadata": {},
   "cell_type": "code",
   "source": [
    "# Creating a sample 3D surface plot (Titanic dataset doesn't naturally lend itself to 3D surface plots)\n",
    "x = np.outer(np.linspace(-2, 2, 30), np.ones(30))\n",
    "y = x.copy().T\n",
    "z = np.cos(x ** 2 + y ** 2)\n",
    "fig = go.Figure(data=[go.Surface(z=z, x=x, y=y)])\n",
    "fig.update_layout(title='3D Surface Plot')\n",
    "fig.show()"
   ],
   "id": "a495a6569b12e76f",
   "execution_count": null,
   "outputs": []
  },
  {
   "metadata": {},
   "cell_type": "markdown",
   "source": "# 24. 3D Bar Plot",
   "id": "f36e7afd15f9a3f0"
  },
  {
   "metadata": {},
   "cell_type": "code",
   "source": [
    "# Plotly does not directly support 3D bar plots like 2D bar plots\n",
    "fig = go.Figure(data=[go.Scatter3d(x=df['Age'], y=df['Fare'], z=df['Pclass'], mode='markers')])\n",
    "fig.update_layout(title='3D Scatter Plot (used as an alternative to 3D Bar Plot)')\n",
    "fig.show()"
   ],
   "id": "dae964270461f0eb",
   "execution_count": null,
   "outputs": []
  },
  {
   "metadata": {},
   "cell_type": "markdown",
   "source": "# Interactive Visualizations (using Plotly, Bokeh, etc.)",
   "id": "d31859b715245440"
  },
  {
   "metadata": {},
   "cell_type": "markdown",
   "source": "# 25. Time Series Plots",
   "id": "d3ac0d1b09e13f9"
  },
  {
   "metadata": {},
   "cell_type": "code",
   "source": [
    "fig = go.Figure()\n",
    "fig.add_trace(go.Scatter(x=df['Age'], y=df['Fare'], mode='markers', name='Fare vs Age'))\n",
    "fig.update_layout(title='Scatter Plot of Age vs Fare')\n",
    "fig.show()"
   ],
   "id": "f6d3d43da9e3f5a",
   "execution_count": null,
   "outputs": []
  },
  {
   "metadata": {},
   "cell_type": "markdown",
   "source": "# 26. Geographical Maps",
   "id": "6f79bae20b5ad20e"
  },
  {
   "metadata": {},
   "cell_type": "code",
   "source": [
    "map_ = folium.Map(location=[40.7128, -74.0060], zoom_start=2)\n",
    "for _, row in map_data.iterrows():\n",
    "    folium.CircleMarker(location=[row['Latitude'], row['Longitude']], radius=row['Passengers']/10, color='blue', fill=True, fill_opacity=0.6).add_to(map_)\n",
    "map_"
   ],
   "id": "42682c02146735ad",
   "execution_count": null,
   "outputs": []
  },
  {
   "metadata": {},
   "cell_type": "markdown",
   "source": "# 27. Financial Charts",
   "id": "a9f513a388bec29"
  },
  {
   "metadata": {},
   "cell_type": "code",
   "source": [
    "# Using a simple bar chart as an alternative visualization\n",
    "df_candlestick = df[['Pclass', 'Fare']].groupby('Pclass').mean().reset_index()\n",
    "fig = px.bar(df_candlestick, x='Pclass', y='Fare')\n",
    "fig.update_layout(title='Average Fare by Class')\n",
    "fig.show()"
   ],
   "id": "71f0e311da7a8dc4",
   "execution_count": null,
   "outputs": []
  },
  {
   "metadata": {},
   "cell_type": "markdown",
   "source": "# 28. Gauge Charts with Animations",
   "id": "2d2c5f2b530f7780"
  },
  {
   "metadata": {},
   "cell_type": "code",
   "source": [
    "fig = go.Figure(go.Indicator(\n",
    "    mode=\"gauge+number+delta\", value=df['Fare'].mean(),\n",
    "    domain={'x': [0.1, 0.9], 'y': [0.1, 0.9]},\n",
    "    title={'text': \"Average Fare\"}\n",
    "))\n",
    "fig.update_layout(title='Gauge Chart with Animation')\n",
    "fig.show()"
   ],
   "id": "dfd0f59a9c73ad5b",
   "execution_count": null,
   "outputs": []
  },
  {
   "metadata": {},
   "cell_type": "markdown",
   "source": "# 29. Dashboards",
   "id": "781aad66eba9eebf"
  },
  {
   "metadata": {},
   "cell_type": "code",
   "source": [
    "from bokeh.layouts import column\n",
    "output_notebook()\n",
    "p1 = figure(title='Scatter Plot', x_axis_label='Age', y_axis_label='Fare')\n",
    "p1.scatter(df['Age'], df['Fare'])\n",
    "p2 = figure(title='Box Plot', x_axis_label='Pclass', y_axis_label='Fare')\n",
    "p2.vbar(x=df['Pclass'], top=df['Fare'], width=0.9)\n",
    "grid = gridplot([[p1, p2]])\n",
    "show(grid, notebook_handle=True)"
   ],
   "id": "aeacfb927c83e584",
   "execution_count": null,
   "outputs": []
  },
  {
   "metadata": {},
   "cell_type": "markdown",
   "source": "# Statistical Visualizations",
   "id": "3f096de0f116aea1"
  },
  {
   "metadata": {},
   "cell_type": "markdown",
   "source": "# 30. Kernel Density Estimation (KDE) Plot",
   "id": "8fb7845995248bd7"
  },
  {
   "metadata": {},
   "cell_type": "code",
   "source": [
    "plt.figure(figsize=(10, 6))\n",
    "sns.kdeplot(df['Fare'], shade=True, color='r')\n",
    "plt.title('KDE Plot of Fare')\n",
    "plt.show()"
   ],
   "id": "88bf7c77efafa91",
   "execution_count": null,
   "outputs": []
  },
  {
   "metadata": {},
   "cell_type": "markdown",
   "source": "# 31. QQ Plot (Quantile-Quantile Plot)",
   "id": "6a1623628063180"
  },
  {
   "metadata": {},
   "cell_type": "code",
   "source": [
    "sm.qqplot(df['Fare'], line ='45')\n",
    "plt.title('QQ Plot')\n",
    "plt.show()"
   ],
   "id": "e2989441dde64d66",
   "execution_count": null,
   "outputs": []
  },
  {
   "metadata": {},
   "cell_type": "markdown",
   "source": "# 32. Violin Plot (combines boxplot and KDE)",
   "id": "b585f4aefc2e8771"
  },
  {
   "metadata": {},
   "cell_type": "code",
   "source": [
    "plt.figure(figsize=(10, 6))\n",
    "sns.violinplot(x='Pclass', y='Fare', data=df)\n",
    "plt.title('Violin Plot of Fare by Class')\n",
    "plt.show()"
   ],
   "id": "1e6d47b5397e62a2",
   "execution_count": null,
   "outputs": []
  },
  {
   "metadata": {},
   "cell_type": "markdown",
   "source": "# 33. Empirical Cumulative Distribution Function (ECDF) Plot",
   "id": "8c753295ebe94de1"
  },
  {
   "metadata": {},
   "cell_type": "code",
   "source": [
    "plt.figure(figsize=(10, 6))\n",
    "sns.ecdfplot(df['Fare'])\n",
    "plt.title('ECDF Plot of Fare')\n",
    "plt.show()"
   ],
   "id": "baeaba07615e1ec2",
   "execution_count": null,
   "outputs": []
  },
  {
   "metadata": {},
   "cell_type": "markdown",
   "source": "# Specialized Visualizations",
   "id": "1fffcdd14469ef2f"
  },
  {
   "metadata": {},
   "cell_type": "markdown",
   "source": "# 34. Stream Plots (for flow data)",
   "id": "93cc8aec0382e8ff"
  },
  {
   "metadata": {},
   "cell_type": "code",
   "source": [
    "Y, X = np.mgrid[-3:3:100j, -3:3:100j]\n",
    "U = -1 - X**2 + Y\n",
    "V = 1 + X - Y**2\n",
    "plt.figure(figsize=(10, 6))\n",
    "plt.streamplot(X, Y, U, V, color=np.sqrt(U**2 + V**2), linewidth=2, cmap='autumn')\n",
    "plt.title('Stream Plot')\n",
    "plt.show()"
   ],
   "id": "3d10e3b54174ead3",
   "execution_count": null,
   "outputs": []
  },
  {
   "metadata": {},
   "cell_type": "markdown",
   "source": "# 35. Venn Diagrams (for set relationships)",
   "id": "413bce896406cdbc"
  },
  {
   "metadata": {},
   "cell_type": "code",
   "source": [
    "plt.figure(figsize=(10, 6))\n",
    "venn2(subsets = (10, 20, 5), set_labels = ('A', 'B'))\n",
    "plt.title('Venn Diagram')\n",
    "plt.show()"
   ],
   "id": "9fac62a9904ffc92",
   "execution_count": null,
   "outputs": []
  },
  {
   "metadata": {},
   "cell_type": "markdown",
   "source": "# 36. Gantt Charts (for project scheduling)",
   "id": "61cc6e850a002102"
  },
  {
   "metadata": {},
   "cell_type": "code",
   "source": [
    "# Using another dataset for a Gantt chart example\n",
    "df_gantt = pd.DataFrame({\n",
    "    'Task': ['Task 1', 'Task 2', 'Task 3', 'Task 4'],\n",
    "    'Start': ['2024-01-01', '2024-01-05', '2024-01-10', '2024-01-15'],\n",
    "    'Finish': ['2024-01-10', '2024-01-15', '2024-01-20', '2024-01-25']\n",
    "})\n",
    "df_gantt['Start'] = pd.to_datetime(df_gantt['Start'])\n",
    "df_gantt['Finish'] = pd.to_datetime(df_gantt['Finish'])\n",
    "fig = px.timeline(df_gantt, x_start=\"Start\", x_end=\"Finish\", y=\"Task\")\n",
    "fig.update_yaxes(categoryorder=\"total ascending\")\n",
    "fig.show()"
   ],
   "id": "4bbca12adb60f192",
   "execution_count": null,
   "outputs": []
  },
  {
   "metadata": {},
   "cell_type": "markdown",
   "source": "# 37. Word Clouds (for text analysis)",
   "id": "8c0408f2504d4875"
  },
  {
   "metadata": {},
   "cell_type": "code",
   "source": [
    "text = \" \".join(df.columns)\n",
    "wordcloud = WordCloud(width=800, height=400, background_color='white').generate(text)\n",
    "plt.figure(figsize=(10, 6))\n",
    "plt.imshow(wordcloud, interpolation='bilinear')\n",
    "plt.axis('off')\n",
    "plt.title('Word Cloud')\n",
    "plt.show()"
   ],
   "id": "4bba629c196ad671",
   "execution_count": null,
   "outputs": []
  }
 ],
 "metadata": {
  "kernelspec": {
   "display_name": "Python 3",
   "language": "python",
   "name": "python3"
  },
  "language_info": {
   "codemirror_mode": {
    "name": "ipython",
    "version": 2
   },
   "file_extension": ".py",
   "mimetype": "text/x-python",
   "name": "python",
   "nbconvert_exporter": "python",
   "pygments_lexer": "ipython2",
   "version": "2.7.6"
  }
 },
 "nbformat": 4,
 "nbformat_minor": 5
}
