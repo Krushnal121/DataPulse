{
 "cells": [
  {
   "metadata": {},
   "cell_type": "markdown",
   "source": "# Import necessary libraries",
   "id": "d1da8e1319069738"
  },
  {
   "metadata": {},
   "cell_type": "code",
   "execution_count": null,
   "source": [
    "import pandas as pd\n",
    "import matplotlib.pyplot as plt\n",
    "import seaborn as sns\n",
    "import warnings\n",
    "warnings.filterwarnings('ignore')"
   ],
   "id": "a68ad6a2a9ded36",
   "outputs": []
  },
  {
   "metadata": {},
   "cell_type": "markdown",
   "source": "# Load the dataset",
   "id": "498797fd22446108"
  },
  {
   "metadata": {},
   "cell_type": "code",
   "execution_count": null,
   "source": "df=pd.read_csv(\"world-happiness-report-2021.csv\")",
   "id": "36ded7365d15d6d8",
   "outputs": []
  },
  {
   "metadata": {},
   "cell_type": "markdown",
   "source": "# Show first few rows of the dataset",
   "id": "bc6b8a5fb8381eae"
  },
  {
   "metadata": {},
   "cell_type": "code",
   "execution_count": 2,
   "source": "df.head()",
   "id": "1d3cf3d3d1fc896",
   "outputs": []
  },
  {
   "metadata": {},
   "cell_type": "markdown",
   "source": "# Basic Charts",
   "id": "17a2eff9e60fe4a0"
  },
  {
   "metadata": {},
   "cell_type": "markdown",
   "source": "# 1. Bar Chart",
   "id": "d491ac0416b7d9db"
  },
  {
   "metadata": {},
   "cell_type": "code",
   "execution_count": 3,
   "source": [
    "plt.figure(figsize=(14, 7))\n",
    "sns.barplot(data=df.head(10), x='Country name', y='Ladder score')\n",
    "plt.title('Top 10 Happiest Countries by Ladder Score')\n",
    "plt.xticks(rotation=45)\n",
    "plt.show()"
   ],
   "id": "f3e393bccc1b82ff",
   "outputs": []
  },
  {
   "metadata": {},
   "cell_type": "markdown",
   "source": "# 2. Line Chart",
   "id": "58473a035ce8a26d"
  },
  {
   "metadata": {},
   "cell_type": "code",
   "execution_count": 4,
   "source": [
    "plt.figure(figsize=(14, 7))\n",
    "df_sorted = df.sort_values('Logged GDP per capita')\n",
    "sns.lineplot(data=df_sorted, x='Logged GDP per capita', y='Ladder score')\n",
    "plt.title('Ladder Score vs. GDP per Capita')\n",
    "plt.show()"
   ],
   "id": "d93de3a07aa02136",
   "outputs": []
  },
  {
   "metadata": {},
   "cell_type": "markdown",
   "source": "# 3. Pie Chart",
   "id": "ff15632719afa26"
  },
  {
   "metadata": {},
   "cell_type": "code",
   "execution_count": 5,
   "source": [
    "labels = df['Regional indicator'].value_counts().index\n",
    "sizes = df['Regional indicator'].value_counts().values\n",
    "plt.figure(figsize=(10, 10))\n",
    "plt.pie(sizes, labels=labels, autopct='%1.1f%%', startangle=140)\n",
    "plt.axis('equal')  # Equal aspect ratio ensures that pie is drawn as a circle.\n",
    "plt.title('Distribution of Regions')\n",
    "plt.show()"
   ],
   "id": "e30b5320315446d4",
   "outputs": []
  },
  {
   "metadata": {},
   "cell_type": "markdown",
   "source": "# 4. Scatter Plot",
   "id": "15426168e1e29476"
  },
  {
   "metadata": {},
   "cell_type": "markdown",
   "source": [
    "plt.figure(figsize=(14, 7))\n",
    "sns.scatterplot(data=df, x='Healthy life expectancy', y='Ladder score', hue='Regional indicator')\n",
    "plt.title('Ladder Score vs. Healthy Life Expectancy')\n",
    "plt.show()"
   ],
   "id": "6063ad84cebe9015"
  },
  {
   "metadata": {},
   "cell_type": "markdown",
   "source": "# 5. Histogram",
   "id": "e7ec9aaffea4ffb0"
  },
  {
   "metadata": {},
   "cell_type": "code",
   "execution_count": 7,
   "source": [
    "plt.figure(figsize=(14, 7))\n",
    "sns.histplot(df['Healthy life expectancy'], bins=30, kde=True)\n",
    "plt.title('Distribution of Healthy Life Expectancy')\n",
    "plt.xlabel('Healthy Life Expectancy')\n",
    "plt.ylabel('Frequency')\n",
    "plt.show()"
   ],
   "id": "81dfcb2b75df90a9",
   "outputs": []
  },
  {
   "metadata": {},
   "cell_type": "markdown",
   "source": "# Advanced Charts",
   "id": "eb0bab4f81a8af11"
  },
  {
   "metadata": {},
   "cell_type": "markdown",
   "source": "# 6. Box Plot",
   "id": "d0b5f90c4080ea4f"
  },
  {
   "metadata": {},
   "cell_type": "code",
   "execution_count": 8,
   "source": [
    "plt.figure(figsize=(14, 7))\n",
    "sns.boxplot(data=df, x='Regional indicator', y='Ladder score')\n",
    "plt.title('Box Plot of Ladder Score by Region')\n",
    "plt.xticks(rotation=45)\n",
    "plt.show()"
   ],
   "id": "e45b96a054f21672",
   "outputs": []
  },
  {
   "metadata": {},
   "cell_type": "markdown",
   "source": "# 7. Heatmap",
   "id": "ff3b9cecc129f445"
  },
  {
   "metadata": {
    "ExecuteTime": {
     "end_time": "2024-06-08T14:34:10.250570Z",
     "start_time": "2024-06-08T14:34:09.387422Z"
    }
   },
   "cell_type": "code",
   "source": [
    "numeric_cols = df.select_dtypes(include='number').columns\n",
    "df_numeric = df[numeric_cols]\n",
    "plt.figure(figsize=(14, 7))\n",
    "sns.heatmap(df_numeric.corr(), annot=True, cmap='coolwarm', linewidths=0.5)\n",
    "plt.title('Heatmap of Correlation Matrix')\n",
    "plt.show()"
   ],
   "id": "2afcf5887e88b41b",
   "execution_count": 27,
   "outputs": []
  },
  {
   "metadata": {},
   "cell_type": "markdown",
   "source": "# 8. Area Chart",
   "id": "c89e4de0c0404f76"
  },
  {
   "metadata": {},
   "cell_type": "markdown",
   "source": [
    "df_sorted = df.sort_values('Logged GDP per capita')\n",
    "plt.figure(figsize=(14, 7))\n",
    "plt.fill_between(df_sorted.index, df_sorted['Logged GDP per capita'], color=\"skyblue\", alpha=0.4)\n",
    "plt.plot(df_sorted.index, df_sorted['Logged GDP per capita'], color=\"Slateblue\", alpha=0.6, linewidth=2)\n",
    "plt.title('Area Chart of GDP per Capita')\n",
    "plt.show()"
   ],
   "id": "9cdafbcc34bad8b"
  },
  {
   "metadata": {},
   "cell_type": "markdown",
   "source": "# 9. Violin Plot",
   "id": "5298e1c13752a7af"
  },
  {
   "metadata": {},
   "cell_type": "code",
   "execution_count": null,
   "source": [
    "plt.figure(figsize=(14, 7))\n",
    "sns.violinplot(data=df, x='Regional indicator', y='Ladder score')\n",
    "plt.title('Violin Plot of Ladder Score by Region')\n",
    "plt.xticks(rotation=45)\n",
    "plt.show()"
   ],
   "id": "a16e6929d3e0cc44",
   "outputs": []
  },
  {
   "metadata": {},
   "cell_type": "markdown",
   "source": "# 10. Pair Plot",
   "id": "ae4689774d343478"
  },
  {
   "metadata": {},
   "cell_type": "markdown",
   "source": [
    "plt.figure(figsize=(14, 7))\n",
    "sns.pairplot(df[['Ladder score', 'Logged GDP per capita', 'Social support', 'Healthy life expectancy', 'Freedom to make life choices']])\n",
    "plt.show()"
   ],
   "id": "bb081b54a6ddbcd6"
  },
  {
   "metadata": {},
   "cell_type": "markdown",
   "source": "# 11. Strip Plot",
   "id": "9fbdf67933904fdd"
  },
  {
   "metadata": {},
   "cell_type": "code",
   "execution_count": 13,
   "source": [
    "plt.figure(figsize=(14, 7))\n",
    "sns.stripplot(data=df, x='Regional indicator', y='Ladder score', jitter=True)\n",
    "plt.title('Strip Plot of Ladder Score by Region')\n",
    "plt.xticks(rotation=45)\n",
    "plt.show()"
   ],
   "id": "3e8b4ab8c16d04f1",
   "outputs": []
  },
  {
   "metadata": {},
   "cell_type": "markdown",
   "source": "# 12. Swarm Plot",
   "id": "a4d314096d280d82"
  },
  {
   "metadata": {},
   "cell_type": "code",
   "execution_count": null,
   "source": [
    "plt.figure(figsize=(14, 7))\n",
    "sns.swarmplot(data=df, x='Regional indicator', y='Ladder score')\n",
    "plt.title('Swarm Plot of Ladder Score by Region')\n",
    "plt.xticks(rotation=45)\n",
    "plt.show()"
   ],
   "id": "8e2ed139149ed788",
   "outputs": []
  },
  {
   "metadata": {},
   "cell_type": "markdown",
   "source": "# 13. KDE Plot",
   "id": "312d7a15b81cf183"
  },
  {
   "metadata": {},
   "cell_type": "code",
   "execution_count": 18,
   "source": [
    "plt.figure(figsize=(14, 7))\n",
    "sns.kdeplot(df['Ladder score'], shade=True, color='r')\n",
    "plt.title('KDE Plot of Ladder Score')\n",
    "plt.show()"
   ],
   "id": "49273493a7518827",
   "outputs": []
  },
  {
   "metadata": {},
   "cell_type": "markdown",
   "source": "# 14. ECDF Plot",
   "id": "82bd1b7330876354"
  },
  {
   "metadata": {},
   "cell_type": "code",
   "execution_count": 19,
   "source": [
    "plt.figure(figsize=(14, 7))\n",
    "sns.ecdfplot(df['Ladder score'])\n",
    "plt.title('ECDF Plot of Ladder Score')\n",
    "plt.show()"
   ],
   "id": "8e076862fbc9692a",
   "outputs": []
  },
  {
   "metadata": {},
   "cell_type": "markdown",
   "source": "# 15. Joint Plot",
   "id": "e671465bb0cf2ac0"
  },
  {
   "metadata": {},
   "cell_type": "code",
   "execution_count": 20,
   "source": [
    "plt.figure(figsize=(14, 7))\n",
    "sns.jointplot(data=df, x='Logged GDP per capita', y='Ladder score', kind='hex', cmap='coolwarm')\n",
    "plt.show()"
   ],
   "id": "5cedea6b3bca4ea2",
   "outputs": []
  },
  {
   "metadata": {},
   "cell_type": "markdown",
   "source": "# 16. Boxen Plot",
   "id": "fe17ae3aafe5e044"
  },
  {
   "metadata": {},
   "cell_type": "code",
   "execution_count": 21,
   "source": [
    "plt.figure(figsize=(14, 7))\n",
    "sns.boxenplot(data=df, x='Regional indicator', y='Ladder score')\n",
    "plt.title('Boxen Plot of Ladder Score by Region')\n",
    "plt.xticks(rotation=45)\n",
    "plt.show()"
   ],
   "id": "1a7d09bcf14e6186",
   "outputs": []
  },
  {
   "metadata": {},
   "cell_type": "markdown",
   "source": "# 17. Count Plot",
   "id": "823f57e1faace298"
  },
  {
   "metadata": {},
   "cell_type": "markdown",
   "source": [
    "plt.figure(figsize=(14, 7))\n",
    "sns.countplot(data=df, y='Regional indicator', order=df['Regional indicator'].value_counts().index)\n",
    "plt.title('Count Plot of Regions')\n",
    "plt.show()"
   ],
   "id": "6af0918daac52ae1"
  },
  {
   "metadata": {},
   "cell_type": "markdown",
   "source": "# 18. Regression Plot",
   "id": "4af89c4967879865"
  },
  {
   "metadata": {},
   "cell_type": "code",
   "execution_count": 23,
   "source": [
    "plt.figure(figsize=(14, 7))\n",
    "sns.regplot(data=df, x='Logged GDP per capita', y='Ladder score')\n",
    "plt.title('Regression Plot of Ladder Score vs. GDP per Capita')\n",
    "plt.show()"
   ],
   "id": "85e068c6332043bc",
   "outputs": []
  },
  {
   "metadata": {},
   "cell_type": "markdown",
   "source": "# 19. Residual Plot",
   "id": "73f9dc416d66365f"
  },
  {
   "metadata": {},
   "cell_type": "code",
   "execution_count": 24,
   "source": [
    "plt.figure(figsize=(14, 7))\n",
    "sns.residplot(data=df, x='Logged GDP per capita', y='Ladder score')\n",
    "plt.title('Residual Plot of Ladder Score vs. GDP per Capita')\n",
    "plt.show()"
   ],
   "id": "7c17c578c90437b2",
   "outputs": []
  },
  {
   "metadata": {},
   "cell_type": "markdown",
   "source": "# 20. Hexbin Plot",
   "id": "2119fa0ea9e97fa5"
  },
  {
   "metadata": {},
   "cell_type": "code",
   "execution_count": 25,
   "source": [
    "plt.figure(figsize=(14, 7))\n",
    "plt.hexbin(df['Logged GDP per capita'], df['Ladder score'], gridsize=30, cmap='Blues')\n",
    "plt.colorbar(label='count in bin')\n",
    "plt.xlabel('Logged GDP per Capita')\n",
    "plt.ylabel('Ladder Score')\n",
    "plt.title('Hexbin Plot')\n",
    "plt.show()"
   ],
   "id": "47985bf6b52a775c",
   "outputs": []
  },
  {
   "metadata": {},
   "cell_type": "markdown",
   "source": "# 21. Pair Grid",
   "id": "fc1cfeaf4422d2f9"
  },
  {
   "metadata": {},
   "cell_type": "code",
   "execution_count": 26,
   "source": [
    "plt.figure(figsize=(14, 7))\n",
    "g = sns.PairGrid(df[['Ladder score', 'Logged GDP per capita', 'Social support', 'Healthy life expectancy', 'Freedom to make life choices']])\n",
    "g.map_diag(sns.histplot)\n",
    "g.map_offdiag(sns.scatterplot)\n",
    "plt.show()"
   ],
   "id": "initial_id",
   "outputs": []
  }
 ],
 "metadata": {
  "kernelspec": {
   "display_name": "Python 3",
   "language": "python",
   "name": "python3"
  },
  "language_info": {
   "codemirror_mode": {
    "name": "ipython",
    "version": 2
   },
   "file_extension": ".py",
   "mimetype": "text/x-python",
   "name": "python",
   "nbconvert_exporter": "python",
   "pygments_lexer": "ipython2",
   "version": "2.7.6"
  }
 },
 "nbformat": 4,
 "nbformat_minor": 5
}
