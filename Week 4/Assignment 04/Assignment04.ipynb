{
 "cells": [
  {
   "cell_type": "markdown",
   "metadata": {},
   "source": [
    "# Assignment: Various Mathematical and Statistical Concepts"
   ]
  },
  {
   "cell_type": "markdown",
   "metadata": {},
   "source": [
    "## Task 1: Apply Bayes' Theorem to solve a medical diagnosis problem"
   ]
  },
  {
   "cell_type": "code",
   "metadata": {
    "ExecuteTime": {
     "end_time": "2024-06-29T05:17:37.218969Z",
     "start_time": "2024-06-29T05:17:37.205238Z"
    }
   },
   "source": [
    "# Bayes' Theorem example for a medical diagnosis problem\n",
    "def bayes_theorem(prior_A, prob_B_given_A, prob_B):\n",
    "    return (prob_B_given_A * prior_A) / prob_B\n",
    "\n",
    "# Example values\n",
    "prior_disease = 0.01  # Prior probability of having the disease\n",
    "prob_positive_given_disease = 0.95  # Probability of a positive test given the disease\n",
    "prob_positive = 0.05  # Probability of a positive test\n",
    "\n",
    "# Applying Bayes' Theorem\n",
    "posterior = bayes_theorem(prior_disease, prob_positive_given_disease, prob_positive)\n",
    "print(f\"Probability of having the disease given a positive test: {posterior:.4f}\")"
   ],
   "outputs": [
    {
     "name": "stdout",
     "output_type": "stream",
     "text": [
      "Probability of having the disease given a positive test: 0.1900\n"
     ]
    }
   ],
   "execution_count": 1
  },
  {
   "cell_type": "markdown",
   "metadata": {},
   "source": [
    "## Task 2: Find the eigenvalues and corresponding eigenvectors of a given matrix"
   ]
  },
  {
   "cell_type": "code",
   "metadata": {
    "ExecuteTime": {
     "end_time": "2024-06-29T05:17:37.589931Z",
     "start_time": "2024-06-29T05:17:37.220981Z"
    }
   },
   "source": [
    "import numpy as np\n",
    "\n",
    "# Define a matrix\n",
    "matrix = np.array([[4, -2, 1],\n",
    "                  [-2, 4, -2],\n",
    "                  [1, -2, 3]])\n",
    "\n",
    "# Calculate eigenvalues and eigenvectors\n",
    "eigenvalues, eigenvectors = np.linalg.eig(matrix)\n",
    "print(\"Eigenvalues:\")\n",
    "print(eigenvalues)\n",
    "print(\"\\nEigenvectors:\")\n",
    "print(eigenvectors)"
   ],
   "outputs": [
    {
     "name": "stdout",
     "output_type": "stream",
     "text": [
      "Eigenvalues:\n",
      "[7.11902668 2.56837289 1.31260044]\n",
      "\n",
      "Eigenvectors:\n",
      "[[ 0.57864919 -0.76930576  0.27080208]\n",
      " [-0.66960599 -0.25857088  0.69625349]\n",
      " [ 0.46561028  0.58421721  0.66475357]]\n"
     ]
    }
   ],
   "execution_count": 2
  },
  {
   "cell_type": "markdown",
   "metadata": {},
   "source": [
    "## Task 3: Calculate the determinant of a 3x3 matrix and find its inverse if possible"
   ]
  },
  {
   "cell_type": "code",
   "metadata": {
    "ExecuteTime": {
     "end_time": "2024-06-29T05:17:37.603623Z",
     "start_time": "2024-06-29T05:17:37.591940Z"
    }
   },
   "source": [
    "# Define a 3x3 matrix\n",
    "matrix = np.array([[1, 2, 3],\n",
    "                  [0, 1, 4],\n",
    "                  [5, 6, 0]])\n",
    "\n",
    "# Calculate determinant\n",
    "determinant = np.linalg.det(matrix)\n",
    "print(f\"Determinant: {determinant:.2f}\")\n",
    "\n",
    "# Calculate inverse if determinant is non-zero\n",
    "if determinant != 0:\n",
    "    inverse = np.linalg.inv(matrix)\n",
    "    print(\"\\nInverse:\")\n",
    "    print(inverse)\n",
    "else:\n",
    "    print(\"\\nMatrix is singular and does not have an inverse.\")"
   ],
   "outputs": [
    {
     "name": "stdout",
     "output_type": "stream",
     "text": [
      "Determinant: 1.00\n",
      "\n",
      "Inverse:\n",
      "[[-24.  18.   5.]\n",
      " [ 20. -15.  -4.]\n",
      " [ -5.   4.   1.]]\n"
     ]
    }
   ],
   "execution_count": 3
  },
  {
   "cell_type": "markdown",
   "metadata": {},
   "source": [
    "## Task 4: Describe the properties and applications of the Normal distribution and calculate probabilities using its properties"
   ]
  },
  {
   "cell_type": "markdown",
   "metadata": {},
   "source": [
    "### Properties of Normal Distribution\n",
    "- The normal distribution is symmetric about the mean.\n",
    "- The mean, median, and mode of the distribution are equal.\n",
    "- The distribution is defined by its mean (μ) and standard deviation (σ).\n",
    "- Approximately 68% of the data falls within one standard deviation of the mean, 95% within two, and 99.7% within three (Empirical Rule).\n",
    "\n",
    "### Applications of Normal Distribution\n",
    "- In finance, for modeling asset returns.\n",
    "- In quality control, for representing variation in manufacturing processes.\n",
    "- In psychology, for intelligence testing scores.\n",
    "- In natural and social sciences, for various phenomena such as heights, measurement errors, etc."
   ]
  },
  {
   "cell_type": "code",
   "metadata": {
    "ExecuteTime": {
     "end_time": "2024-06-29T05:17:39.346318Z",
     "start_time": "2024-06-29T05:17:37.605633Z"
    }
   },
   "source": [
    "import scipy.stats as stats\n",
    "\n",
    "# Define mean and standard deviation\n",
    "mean = 0\n",
    "std_dev = 1\n",
    "\n",
    "# Create a normal distribution\n",
    "distribution = stats.norm(mean, std_dev)\n",
    "\n",
    "# Calculate probability P(X <= 1.96)\n",
    "probability = distribution.cdf(1.96)\n",
    "print(f\"P(X <= 1.96): {probability:.4f}\")\n",
    "\n",
    "# Calculate probability P(X > 1.96)\n",
    "probability = 1 - distribution.cdf(1.96)\n",
    "print(f\"P(X > 1.96): {probability:.4f}\")\n",
    "\n",
    "# Calculate probability P(-1 <= X <= 1)\n",
    "probability = distribution.cdf(1) - distribution.cdf(-1)\n",
    "print(f\"P(-1 <= X <= 1): {probability:.4f}\")"
   ],
   "outputs": [
    {
     "name": "stdout",
     "output_type": "stream",
     "text": [
      "P(X <= 1.96): 0.9750\n",
      "P(X > 1.96): 0.0250\n",
      "P(-1 <= X <= 1): 0.6827\n"
     ]
    }
   ],
   "execution_count": 4
  }
 ],
 "metadata": {
  "kernelspec": {
   "display_name": "Python 3",
   "language": "python",
   "name": "python3"
  },
  "language_info": {
   "codemirror_mode": {
    "name": "ipython",
    "version": 3
   },
   "file_extension": ".py",
   "mimetype": "text/x-python",
   "name": "python",
   "nbconvert_exporter": "python",
   "pygments_lexer": "ipython3",
   "version": "3.8.8"
  }
 },
 "nbformat": 4,
 "nbformat_minor": 4
}
